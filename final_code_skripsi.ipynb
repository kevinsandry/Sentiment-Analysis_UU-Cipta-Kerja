{
  "nbformat": 4,
  "nbformat_minor": 0,
  "metadata": {
    "colab": {
      "name": "Skripsi.ipynb",
      "provenance": [],
      "collapsed_sections": [],
      "toc_visible": true
    },
    "kernelspec": {
      "display_name": "Python 3",
      "name": "python3"
    }
  },
  "cells": [
    {
      "cell_type": "code",
      "metadata": {
        "id": "IYRWvDWiqa3q"
      },
      "source": [
        "import pandas as pd"
      ],
      "execution_count": null,
      "outputs": []
    },
    {
      "cell_type": "code",
      "metadata": {
        "id": "Pdp1HiJEqoWt"
      },
      "source": [
        "tweets = pd.read_csv('/content/final_dataset.csv')"
      ],
      "execution_count": null,
      "outputs": []
    },
    {
      "cell_type": "code",
      "metadata": {
        "colab": {
          "base_uri": "https://localhost:8080/",
          "height": 202
        },
        "id": "NU5uIyihZeQ0",
        "outputId": "91388b2b-8cf7-43b8-a4b2-1f861dce7b52"
      },
      "source": [
        "tweets.head()"
      ],
      "execution_count": null,
      "outputs": [
        {
          "output_type": "execute_result",
          "data": {
            "text/html": [
              "<div>\n",
              "<style scoped>\n",
              "    .dataframe tbody tr th:only-of-type {\n",
              "        vertical-align: middle;\n",
              "    }\n",
              "\n",
              "    .dataframe tbody tr th {\n",
              "        vertical-align: top;\n",
              "    }\n",
              "\n",
              "    .dataframe thead th {\n",
              "        text-align: right;\n",
              "    }\n",
              "</style>\n",
              "<table border=\"1\" class=\"dataframe\">\n",
              "  <thead>\n",
              "    <tr style=\"text-align: right;\">\n",
              "      <th></th>\n",
              "      <th>Tweet</th>\n",
              "      <th>Sentiment</th>\n",
              "    </tr>\n",
              "  </thead>\n",
              "  <tbody>\n",
              "    <tr>\n",
              "      <th>0</th>\n",
              "      <td>RUU Cipta Kerja jelas akan mempermudah peluang...</td>\n",
              "      <td>1</td>\n",
              "    </tr>\n",
              "    <tr>\n",
              "      <th>1</th>\n",
              "      <td>RUU Cipta Kerja ini dapat memberikan kepastian...</td>\n",
              "      <td>1</td>\n",
              "    </tr>\n",
              "    <tr>\n",
              "      <th>2</th>\n",
              "      <td>#GejayanMemanggilLagi\\n#gejayanmemanggil\\n#Ge...</td>\n",
              "      <td>0</td>\n",
              "    </tr>\n",
              "    <tr>\n",
              "      <th>3</th>\n",
              "      <td>Pemerintah &amp;amp; wakil rakyat itu seharusnya m...</td>\n",
              "      <td>0</td>\n",
              "    </tr>\n",
              "    <tr>\n",
              "      <th>4</th>\n",
              "      <td>Jadi ini yang gue tangkep sehabis gue nonton p...</td>\n",
              "      <td>1</td>\n",
              "    </tr>\n",
              "  </tbody>\n",
              "</table>\n",
              "</div>"
            ],
            "text/plain": [
              "                                               Tweet  Sentiment\n",
              "0  RUU Cipta Kerja jelas akan mempermudah peluang...          1\n",
              "1  RUU Cipta Kerja ini dapat memberikan kepastian...          1\n",
              "2   #GejayanMemanggilLagi\\n#gejayanmemanggil\\n#Ge...          0\n",
              "3  Pemerintah &amp; wakil rakyat itu seharusnya m...          0\n",
              "4  Jadi ini yang gue tangkep sehabis gue nonton p...          1"
            ]
          },
          "metadata": {
            "tags": []
          },
          "execution_count": 5
        }
      ]
    },
    {
      "cell_type": "code",
      "metadata": {
        "colab": {
          "base_uri": "https://localhost:8080/"
        },
        "id": "BDKHVDxx77ZU",
        "outputId": "375a31f3-5eb1-423e-a0a0-4e87fe4d2cab"
      },
      "source": [
        "tweets['Sentiment'].value_counts()"
      ],
      "execution_count": null,
      "outputs": [
        {
          "output_type": "execute_result",
          "data": {
            "text/plain": [
              "0    502\n",
              "1    498\n",
              "Name: Sentiment, dtype: int64"
            ]
          },
          "metadata": {
            "tags": []
          },
          "execution_count": 3
        }
      ]
    },
    {
      "cell_type": "code",
      "metadata": {
        "colab": {
          "base_uri": "https://localhost:8080/"
        },
        "id": "yUZIrmR-zc0r",
        "outputId": "4983b59e-7ea8-41e7-b85c-bfde4252d6f1"
      },
      "source": [
        "print(tweets['Tweet'][90]+\"\\n\") #d1\r\n",
        "print(tweets['Tweet'][77]+\"\\n\") #d2\r\n",
        "print(tweets['Tweet'][161]+\"\\n\") #d3\r\n",
        "print(tweets['Tweet'][38]+\"\\n\") #d4\r\n",
        "print(tweets['Tweet'][100]+\"\\n\") #d5"
      ],
      "execution_count": null,
      "outputs": [
        {
          "output_type": "stream",
          "text": [
            "UU Cipta kerja menopang pembangunan ekonomi secara seimbang tumbuh berdampingan dengan menjaga lingkungan secara berkelanjutan dan kesejahteraan sosial\n",
            "#OmnibusLawLestari https://t.co/3rrSPBkFJJ\n",
            "\n",
            "@Amal_Alghozali Sdh Seminggu Sy Diam mk Waktunya Sy Komen TAJAM!\n",
            "Sy Jabarkan scr Sederhana shg bs Dipahami Netizen BODOH!\n",
            "RUU Cipta Kerja yg Alurnya \"Memudahkan Para Pengusaha adl NOL BESAR\" krn yg Diincar adl GAJI BURUH RENDAH!\n",
            "Mau Bukti??\n",
            "Bs Cek ada Brp Industri Manufaktur di Jabar yg TUTUP!\n",
            "\n",
            "Omnibus Law UU Cipta Kerja adalah skandal legislasi.\n",
            "\n",
            "#MosiTidakPercaya \n",
            "#AwasHoaxRezim https://t.co/p8fqm3jlbu\n",
            "\n",
            "RUU Cipta Kerja berpotensi mengancam berbagai dimensi kehidupan, mulai dari mundurnya kualitas demokrasi, meningkatnya risiko bencana ekologis di masa mendatang, hingga hak hidup orang banyak yang dipertaruhkan. \n",
            "#batalkanomnibuslaw\n",
            "\n",
            "Dengan RUU cipta kerja bisa meningkatkan upah minimum buruh tiap tahunnya #RakyatButuhKerja https://t.co/FFhSin7jYe\n",
            "\n"
          ],
          "name": "stdout"
        }
      ]
    },
    {
      "cell_type": "markdown",
      "metadata": {
        "id": "FmcX9ISFs9VL"
      },
      "source": [
        "##Case Folding"
      ]
    },
    {
      "cell_type": "code",
      "metadata": {
        "id": "Hirtnn4Ued2t"
      },
      "source": [
        "import re\n",
        "from bs4 import BeautifulSoup\n",
        "\n",
        "def case_folding(tweet):\n",
        "    replacements = [(r\"(http:\\/\\/www\\.|https:\\/\\/www\\.|http:\\/\\/|https:\\/\\/)?[a-z0-9]+([\\-\\.]{1}[a-z0-9]+)*\\.[a-z]{2,5}(:[0-9]{1,5})?(\\/.*)?$\", \"\"),\n",
        "                    (r'#[\\w]*',\"\"),\n",
        "                    (r'@[\\w]*',\"\"),\n",
        "                    ]\n",
        "    for old, new in replacements:\n",
        "        tweet = re.sub(old, new, tweet)\n",
        "\n",
        "    tweet = BeautifulSoup(tweet, \"lxml\").text #hapus html formatting (&amp;, &lt:, &gt:)\n",
        "    tweet = re.sub('[^a-zA-Z]', ' ', tweet) #lowercase dan hapus karakter lain\n",
        "    tweet = tweet.lower()\n",
        "    return tweet\n",
        "\n",
        "case_folded_tweets = [case_folding(tweet) for tweet in tweets['Tweet']]"
      ],
      "execution_count": null,
      "outputs": []
    },
    {
      "cell_type": "code",
      "metadata": {
        "colab": {
          "base_uri": "https://localhost:8080/"
        },
        "id": "CS6CxKjbzk4r",
        "outputId": "286b1eac-3bb4-4a54-ef8e-660954a9fdb3"
      },
      "source": [
        "print(case_folded_tweets[90]) #d1\n",
        "print(case_folded_tweets[77]) #d2\n",
        "print(case_folded_tweets[161]) #d3\n",
        "print(case_folded_tweets[38]) #d4\n",
        "print(case_folded_tweets[100]) #d5"
      ],
      "execution_count": null,
      "outputs": [
        {
          "output_type": "stream",
          "text": [
            "uu cipta kerja menopang pembangunan ekonomi secara seimbang tumbuh berdampingan dengan menjaga lingkungan secara berkelanjutan dan kesejahteraan sosial  \n",
            "sdh seminggu sy diam mk waktunya sy komen tajam  sy jabarkan scr sederhana shg bs dipahami netizen bodoh  ruu cipta kerja yg alurnya  memudahkan para pengusaha adl nol besar  krn yg diincar adl gaji buruh rendah  mau bukti   bs cek ada brp industri manufaktur di jabar yg tutup \n",
            "omnibus law uu cipta kerja adalah skandal legislasi      \n",
            "ruu cipta kerja berpotensi mengancam berbagai dimensi kehidupan  mulai dari mundurnya kualitas demokrasi  meningkatnya risiko bencana ekologis di masa mendatang  hingga hak hidup orang banyak yang dipertaruhkan   \n",
            "dengan ruu cipta kerja bisa meningkatkan upah minimum buruh tiap tahunnya  \n"
          ],
          "name": "stdout"
        }
      ]
    },
    {
      "cell_type": "markdown",
      "metadata": {
        "id": "70j77ZrH27FF"
      },
      "source": [
        "##Tokenisasi"
      ]
    },
    {
      "cell_type": "code",
      "metadata": {
        "id": "OEd8Ibjwq35Z"
      },
      "source": [
        "tokenized_tweets = [tweet.split() for tweet in case_folded_tweets]"
      ],
      "execution_count": null,
      "outputs": []
    },
    {
      "cell_type": "code",
      "metadata": {
        "colab": {
          "base_uri": "https://localhost:8080/"
        },
        "id": "gtOhJCCWzdhS",
        "outputId": "8c8c4dda-488c-4be5-dff6-2026d5b746b1"
      },
      "source": [
        "print(tokenized_tweets[90]) #d1\n",
        "print(tokenized_tweets[77]) #d2\n",
        "print(tokenized_tweets[161]) #d3\n",
        "print(tokenized_tweets[38]) #d4\n",
        "print(tokenized_tweets[100]) #d5"
      ],
      "execution_count": null,
      "outputs": [
        {
          "output_type": "stream",
          "text": [
            "['uu', 'cipta', 'kerja', 'menopang', 'pembangunan', 'ekonomi', 'secara', 'seimbang', 'tumbuh', 'berdampingan', 'dengan', 'menjaga', 'lingkungan', 'secara', 'berkelanjutan', 'dan', 'kesejahteraan', 'sosial']\n",
            "['sdh', 'seminggu', 'sy', 'diam', 'mk', 'waktunya', 'sy', 'komen', 'tajam', 'sy', 'jabarkan', 'scr', 'sederhana', 'shg', 'bs', 'dipahami', 'netizen', 'bodoh', 'ruu', 'cipta', 'kerja', 'yg', 'alurnya', 'memudahkan', 'para', 'pengusaha', 'adl', 'nol', 'besar', 'krn', 'yg', 'diincar', 'adl', 'gaji', 'buruh', 'rendah', 'mau', 'bukti', 'bs', 'cek', 'ada', 'brp', 'industri', 'manufaktur', 'di', 'jabar', 'yg', 'tutup']\n",
            "['omnibus', 'law', 'uu', 'cipta', 'kerja', 'adalah', 'skandal', 'legislasi']\n",
            "['ruu', 'cipta', 'kerja', 'berpotensi', 'mengancam', 'berbagai', 'dimensi', 'kehidupan', 'mulai', 'dari', 'mundurnya', 'kualitas', 'demokrasi', 'meningkatnya', 'risiko', 'bencana', 'ekologis', 'di', 'masa', 'mendatang', 'hingga', 'hak', 'hidup', 'orang', 'banyak', 'yang', 'dipertaruhkan']\n",
            "['dengan', 'ruu', 'cipta', 'kerja', 'bisa', 'meningkatkan', 'upah', 'minimum', 'buruh', 'tiap', 'tahunnya']\n"
          ],
          "name": "stdout"
        }
      ]
    },
    {
      "cell_type": "markdown",
      "metadata": {
        "id": "CEMMa6jYrP58"
      },
      "source": [
        "##Normalisasi"
      ]
    },
    {
      "cell_type": "code",
      "metadata": {
        "id": "nDTKey1dU5js"
      },
      "source": [
        "normalized_word = pd.read_csv('/content/normalisasi.csv')\n",
        "\n",
        "normalized_word_dict = {}\n",
        "\n",
        "def normalized(tweet):\n",
        "    for index, row in normalized_word.iterrows():\n",
        "        if row[0] not in normalized_word_dict:\n",
        "            normalized_word_dict[row[0]] = row[1] \n",
        "    return [normalized_word_dict[term] if term in normalized_word_dict else term for term in tweet]\n",
        "\n",
        "normalized_tweets = [normalized(tweet) for tweet in tokenized_tweets]"
      ],
      "execution_count": null,
      "outputs": []
    },
    {
      "cell_type": "code",
      "metadata": {
        "colab": {
          "base_uri": "https://localhost:8080/"
        },
        "id": "T8fBhgJZIQGY",
        "outputId": "cba3bb42-90ee-4680-fa40-e277a2b92170"
      },
      "source": [
        "print(normalized_tweets[90]) #d1\n",
        "print(normalized_tweets[77]) #d2\n",
        "print(normalized_tweets[161]) #d3\n",
        "print(normalized_tweets[38]) #d4\n",
        "print(normalized_tweets[121]) #d5"
      ],
      "execution_count": null,
      "outputs": [
        {
          "output_type": "stream",
          "text": [
            "['uu', 'cipta', 'kerja', 'menopang', 'pembangunan', 'ekonomi', 'secara', 'seimbang', 'tumbuh', 'berdampingan', 'dengan', 'menjaga', 'lingkungan', 'secara', 'berkelanjutan', 'dan', 'kesejahteraan', 'sosial']\n",
            "['sudah', 'seminggu', 'saya', 'diam', 'mk', 'waktunya', 'saya', 'komentar', 'tajam', 'saya', 'jabarkan', 'secara', 'sederhana', 'sehingga', 'bisa', 'dipahami', 'netizen', 'bodoh', 'ruu', 'cipta', 'kerja', 'yang', 'alurnya', 'memudahkan', 'para', 'pengusaha', 'adalah', 'nol', 'besar', 'karena', 'yang', 'diincar', 'adalah', 'gaji', 'buruh', 'rendah', 'mau', 'bukti', 'bisa', 'cek', 'ada', 'berapa', 'industri', 'manufaktur', 'di', 'jabar', 'yang', 'tutup']\n",
            "['omnibus', 'law', 'uu', 'cipta', 'kerja', 'adalah', 'skandal', 'legislasi']\n",
            "['ruu', 'cipta', 'kerja', 'berpotensi', 'mengancam', 'berbagai', 'dimensi', 'kehidupan', 'mulai', 'dari', 'mundurnya', 'kualitas', 'demokrasi', 'meningkatnya', 'resiko', 'bencana', 'ekologis', 'di', 'masa', 'mendatang', 'hingga', 'hak', 'hidup', 'orang', 'banyak', 'yang', 'dipertaruhkan']\n",
            "['uu', 'cipta', 'kerja', 'menciptakan', 'lapangan', 'kerja']\n"
          ],
          "name": "stdout"
        }
      ]
    },
    {
      "cell_type": "markdown",
      "metadata": {
        "id": "GU4191Zzrqnh"
      },
      "source": [
        "##Stopword Removal"
      ]
    },
    {
      "cell_type": "code",
      "metadata": {
        "id": "DyP9830zsZG1"
      },
      "source": [
        "list_stopwords = ['a','ada','adalah','adanya','adapun','agak','agaknya','agar','akan','akankah','akhir',\n",
        "            'akhiri','akhirnya','aku','akulah','amat','amatlah','anda','andalah','antar','antara',\n",
        "            'antaranya','apa','apaan','apabila','apakah','apalagi','apatah','arti','artinya','asal',\n",
        "            'asalkan','atas','atau','ataukah','ataupun','awal','awalnya','b','bagai','bagaikan',\n",
        "            'bagaimana','bagaimanakah','bagaimanapun','bagainamakah','bagi','bagian','bahkan','bahwa',\n",
        "            'bahwasannya','bahwasanya','baik','baiklah','bakal','bakalan','balik','banyak','bapak',\n",
        "            'baru','bawah','beberapa','begini','beginian','beginikah','beginilah','begitu','begitukah',\n",
        "            'begitulah','begitupun','belakang','belakangan','berada','berakhir','berakhirlah','berakhirnya','berapa','berapakah',\n",
        "            'berapalah','berapapun','berarti','berawal','berbagai','berdatangan','beri','berikan',\n",
        "            'berikut','berikutnya','berjumlah','berkali-kali','berkata','berkehendak','berkeinginan',\n",
        "            'berkenaan','berlainan','berlalu','berlangsung','berlebihan','bermacam','bermacam-macam',\n",
        "            'bermaksud','bermula','bersama','bersama-sama','bersiap','bersiap-siap','bertanya',\n",
        "            'bertanya-tanya','berturut','berturut-turut','bertutur','berujar','berupa','besar',\n",
        "            'betulkah','biasa','biasanya','bila','bilakah','bisa','bisakah','boleh','bolehkah',\n",
        "            'bolehlah','buat','bulan','bung','c','cara',\n",
        "            'caranya','cukup','cukupkah','cukuplah','cuma','d','dahulu','dalam','dan','dapat','dari',\n",
        "            'daripada','datang','dekat','demi','demikian','demikianlah','dengan','depan','di','dia',\n",
        "            'diakhiri','diakhirinya','dialah','diantara','diantaranya','diberi','diberikan','diberikannya',\n",
        "            'dibuat','dibuatnya','didapat','didatangkan','digunakan','diibaratkan','diibaratkannya',\n",
        "            'diingat','diingatkan','diinginkan','dijawab','dijelaskan','dijelaskannya','dikarenakan',\n",
        "            'dikatakan','dikatakannya','diketahui','diketahuinya','dikira','dilakukan',\n",
        "            'dilalui','dilihat','dimaksud','dimaksudkan','dimaksudkannya','dimaksudnya','diminta',\n",
        "            'dimintai','dimisalkan','dimulai','dimulailah','dimulainya','dimungkinkan','dini','dipastikan',\n",
        "            'diperbuat','diperbuatnya','dipergunakan','diperkirakan','diperlihatkan','diperlukan',\n",
        "            'diperlukannya','dipersoalkan','dipertanyakan','dipunyai','diri','dirinya','disampaikan',\n",
        "            'disebut','disebutkan','disebutkannya','disini','disinilah','ditambahkan','ditandaskan',\n",
        "            'ditanya','ditanyai','ditanyakan','ditegaskan','ditujukan','ditunjuk','ditunjuki','ditunjukkan',\n",
        "            'ditunjukkannya','ditunjuknya','dituturkan','dituturkannya','diucapkan','diucapkannya',\n",
        "            'diungkapkan','dong','dua','dulu','e','empat','enak','enggak','enggaknya','entah','entahlah',\n",
        "            'f','g','guna','gunakan','h','hadap','hai','hal','halo','hallo','hampir','hanya','hanyalah',\n",
        "            'hari','harus','haruslah','harusnya','helo','hello','hendak','hendaklah','hendaknya','hingga',\n",
        "            'i','ia','ialah','ibarat','ibaratkan','ibaratnya','ibu','ikut','ingat','ingat-ingat','ingin',\n",
        "            'inginkah','inginkan','ini','inikah','inilah','itu','itukah','itulah','j','jadi','jadilah',\n",
        "            'jadinya','jangan','jangankan','janganlah','jauh','jawab','jawaban','jawabnya','jelas',\n",
        "            'jelaskan','jelaslah','jelasnya','jika','jikalau','juga','jumlah','jumlahnya','justru',\n",
        "            'k','kadar','kala','kalau','kalaulah','kalaupun','kali','kalian','kami','kamilah','kamu',\n",
        "            'kamulah','kan','kapan','kapankah','kapanpun','karena','karenanya','kasus','kata','katakan',\n",
        "            'katakanlah','katanya','ke','keadaan','kebetulan','kecil','kedua','keduanya','keinginan',\n",
        "            'kelamaan','kelihatan','kelihatannya','kelima','keluar','kembali','kemudian','kemungkinan',\n",
        "            'kemungkinannya','kena','kenapa','kepada','kepadanya','kesampaian','keseluruhan',\n",
        "            'keseluruhannya','keterlaluan','ketika','khusus','khususnya','kini','kinilah','kira',\n",
        "            'kira-kira','kiranya','kita','kitalah','kok','kurang','l','lagi','lagian','lah','lain',\n",
        "            'lainnya','laku','lalu','lama','lamanya','langsung','lanjut','lanjutnya','lebih','lewat',\n",
        "            'lihat','lima','luar','m','macam','maka','makanya','makin','maksud','malah','malahan',\n",
        "            'mampu','mampukah','mana','manakala','manalagi','masa','masih',\n",
        "            'masihkah','masing','masing-masing','masuk','mata','mau','maupun','melainkan','melakukan',\n",
        "            'melalui','melihat','melihatnya','memang','memastikan','memberi','memberikan','membuat',\n",
        "            'memerlukan','memihak','meminta','memintakan','memisalkan','memperbuat','mempergunakan',\n",
        "            'memperkirakan','memperlihatkan','mempersiapkan','mempersoalkan','mempertanyakan','mempunyai',\n",
        "            'memulai','memungkinkan','menaiki','menambahkan','menandaskan','menanti','menanti-nanti',\n",
        "            'menantikan','menanya','menanyai','menanyakan','mendapat','mendapatkan','mendatang','mendatangi',\n",
        "            'mendatangkan','menegaskan','mengakhiri','mengapa','mengatakan','mengatakannya','mengenai',\n",
        "            'mengerjakan','mengetahui','menggunakan','menghendaki','mengibaratkan','mengibaratkannya',\n",
        "            'mengingat','mengingatkan','menginginkan','mengira','mengucapkan','mengucapkannya','mengungkapkan',\n",
        "            'menjadi','menjawab','menjelaskan','menuju','menunjuk','menunjuki','menunjukkan','menunjuknya',\n",
        "            'menurut','menuturkan','menyampaikan','menyangkut','menyatakan','menyebutkan','menyeluruh',\n",
        "            'menyiapkan','merasa','mereka','merekalah','merupakan','meski','meskipun','meyakini','meyakinkan',\n",
        "            'minta','mirip','misal','misalkan','misalnya','mohon','mula','mulai','mulailah','mulanya','mungkin',\n",
        "            'mungkinkah','n','nah','naik','namun','nanti','nantinya','nya','nyaris','nyata','nyatanya',\n",
        "            'o','oleh','olehnya','orang','p','pada','padahal','padanya','pak','paling','panjang','pantas',\n",
        "            'para','pasti','pastilah','penting','pentingnya','per','percuma','perlu','perlukah','perlunya',\n",
        "            'pernah','persoalan','pertama','pertama-tama','pertanyaan','pertanyakan','pihak','pihaknya',\n",
        "            'pukul','pula','pun','punya','q','r','rasa','rasanya','rupa','rupanya','s','saat','saatnya','saja',\n",
        "            'sajalah','salam','saling','sama','sama-sama','sambil','sampai','sampai-sampai','sampaikan','sana',\n",
        "            'sangat','sangatlah','sangkut','satu','saya','sayalah','se','sebab','sebabnya','sebagai',\n",
        "            'sebagaimana','sebagainya','sebagian','sebaik','sebaik-baiknya','sebaiknya','sebaliknya',\n",
        "            'sebanyak','sebegini','sebegitu','sebelum','sebelumnya','sebenarnya','seberapa','sebesar',\n",
        "            'sebetulnya','sebisanya','sebuah','sebut','sebutlah','sebutnya','secara','secukupnya','sedang',\n",
        "            'sedangkan','sedemikian','sedikit','sedikitnya','seenaknya','segala','segalanya','segera',\n",
        "            'seharusnya','sehingga','seingat','sejak','sejauh','sejenak','sejumlah','sekadar','sekadarnya',\n",
        "            'sekali','sekali-kali','sekalian','sekaligus','sekalipun','sekarang','sekaranglah','sekecil',\n",
        "            'seketika','sekiranya','sekitar','sekitarnya','sekurang-kurangnya','sekurangnya','sela','selain',\n",
        "            'selaku','selalu','selama','selama-lamanya','selamanya','selanjutnya','seluruh','seluruhnya',\n",
        "            'semacam','semakin','semampu','semampunya','semasa','semasih','semata','semata-mata','semaunya',\n",
        "            'sementara','semisal','semisalnya','sempat','semua','semuanya','semula','sendiri','sendirian',\n",
        "            'sendirinya','seolah','seolah-olah','seorang','sepanjang','sepantasnya','sepantasnyalah',\n",
        "            'seperlunya','seperti','sepertinya','sepihak','sering','seringnya','serta','serupa','sesaat',\n",
        "            'sesama','sesampai','sesegera','sesekali','seseorang','sesuatu','sesuatunya','sesudah',\n",
        "            'sesudahnya','setelah','setempat','setengah','seterusnya','setiap','setiba','setibanya',\n",
        "            'setidak-tidaknya','setidaknya','setinggi','seusai','sewaktu','siap','siapa','siapakah',\n",
        "            'siapapun','sini','sinilah','soal','soalnya','suatu','sudah','sudahkah','sudahlah','supaya',\n",
        "            't','tadi','tadinya','tahu','tak','tambah','tambahnya','tampak','tampaknya','tandas','tandasnya',\n",
        "            'tanpa','tanya','tanyakan','tanyanya','tapi','tegas','tegasnya','telah','tempat','tentang','tentu',\n",
        "            'tentulah','tentunya','tepat','terakhir','terasa','terbanyak','terdahulu','terdapat','terdiri',\n",
        "            'terhadap','terhadapnya','teringat','teringat-ingat','terjadi','terjadilah','terjadinya','terkira',\n",
        "            'terlalu','terlebih','terlihat','termasuk','ternyata','tersampaikan','tersebut','tersebutlah',\n",
        "            'tertentu','tertuju','terus','terutama','tetap','tetapi','tiap','tiba','tiba-tiba',\n",
        "            'tidakkah','tidaklah','tiga','toh','tuju','tunjuk','turut','tutur','tuturnya','u','ucap','ucapnya',\n",
        "            'ujar','ujarnya','umumnya','ungkap','ungkapnya','untuk','usah','usai','v','w','waduh','wah','wahai',\n",
        "            'waktunya','walau','walaupun','wong','x','y','ya','yaitu','yakin','yakni','yang','z', 'kompas', 'cont', 'com']\n",
        "\n",
        "def remove_stopwords(tweet):\n",
        "    return [term for term in tweet if term not in list_stopwords]\n",
        "\n",
        "removed_stopwords_tweets = [remove_stopwords(tweet) for tweet in normalized_tweets]"
      ],
      "execution_count": null,
      "outputs": []
    },
    {
      "cell_type": "code",
      "metadata": {
        "colab": {
          "base_uri": "https://localhost:8080/"
        },
        "id": "CQvZ7_waw7q8",
        "outputId": "299802e4-4f02-47ff-dd2e-12c4392c31ef"
      },
      "source": [
        "print(removed_stopwords_tweets[90]) #d1\n",
        "print(removed_stopwords_tweets[77]) #d2\n",
        "print(removed_stopwords_tweets[161]) #d3\n",
        "print(removed_stopwords_tweets[38]) #d4\n",
        "print(removed_stopwords_tweets[121]) #d5"
      ],
      "execution_count": null,
      "outputs": [
        {
          "output_type": "stream",
          "text": [
            "['uu', 'cipta', 'kerja', 'menopang', 'pembangunan', 'ekonomi', 'seimbang', 'tumbuh', 'berdampingan', 'menjaga', 'lingkungan', 'berkelanjutan', 'kesejahteraan', 'sosial']\n",
            "['seminggu', 'diam', 'mk', 'komentar', 'tajam', 'jabarkan', 'sederhana', 'dipahami', 'netizen', 'bodoh', 'ruu', 'cipta', 'kerja', 'alurnya', 'memudahkan', 'pengusaha', 'nol', 'diincar', 'gaji', 'buruh', 'rendah', 'bukti', 'cek', 'industri', 'manufaktur', 'jabar', 'tutup']\n",
            "['omnibus', 'law', 'uu', 'cipta', 'kerja', 'skandal', 'legislasi']\n",
            "['ruu', 'cipta', 'kerja', 'berpotensi', 'mengancam', 'dimensi', 'kehidupan', 'mundurnya', 'kualitas', 'demokrasi', 'meningkatnya', 'resiko', 'bencana', 'ekologis', 'hak', 'hidup', 'dipertaruhkan']\n",
            "['uu', 'cipta', 'kerja', 'menciptakan', 'lapangan', 'kerja']\n"
          ],
          "name": "stdout"
        }
      ]
    },
    {
      "cell_type": "markdown",
      "metadata": {
        "id": "dP9A7KmaxLTW"
      },
      "source": [
        "##Stemming"
      ]
    },
    {
      "cell_type": "code",
      "metadata": {
        "colab": {
          "base_uri": "https://localhost:8080/"
        },
        "id": "v4XC9ShUrvl5",
        "outputId": "01eae3a4-766e-46a2-dc9d-83ef6f122ced"
      },
      "source": [
        "pip install PySastrawi"
      ],
      "execution_count": null,
      "outputs": [
        {
          "output_type": "stream",
          "text": [
            "Collecting PySastrawi\n",
            "\u001b[?25l  Downloading https://files.pythonhosted.org/packages/61/84/b0a5454a040f81e81e6a95a5d5635f20ad43cc0c288f8b4966b339084962/PySastrawi-1.2.0-py2.py3-none-any.whl (210kB)\n",
            "\r\u001b[K     |█▋                              | 10kB 18.1MB/s eta 0:00:01\r\u001b[K     |███▏                            | 20kB 22.9MB/s eta 0:00:01\r\u001b[K     |████▊                           | 30kB 14.0MB/s eta 0:00:01\r\u001b[K     |██████▎                         | 40kB 11.4MB/s eta 0:00:01\r\u001b[K     |███████▉                        | 51kB 8.6MB/s eta 0:00:01\r\u001b[K     |█████████▍                      | 61kB 8.4MB/s eta 0:00:01\r\u001b[K     |███████████                     | 71kB 9.3MB/s eta 0:00:01\r\u001b[K     |████████████▌                   | 81kB 9.5MB/s eta 0:00:01\r\u001b[K     |██████████████                  | 92kB 9.7MB/s eta 0:00:01\r\u001b[K     |███████████████▋                | 102kB 10.3MB/s eta 0:00:01\r\u001b[K     |█████████████████▏              | 112kB 10.3MB/s eta 0:00:01\r\u001b[K     |██████████████████▊             | 122kB 10.3MB/s eta 0:00:01\r\u001b[K     |████████████████████▎           | 133kB 10.3MB/s eta 0:00:01\r\u001b[K     |█████████████████████▉          | 143kB 10.3MB/s eta 0:00:01\r\u001b[K     |███████████████████████▍        | 153kB 10.3MB/s eta 0:00:01\r\u001b[K     |█████████████████████████       | 163kB 10.3MB/s eta 0:00:01\r\u001b[K     |██████████████████████████▌     | 174kB 10.3MB/s eta 0:00:01\r\u001b[K     |████████████████████████████    | 184kB 10.3MB/s eta 0:00:01\r\u001b[K     |█████████████████████████████▋  | 194kB 10.3MB/s eta 0:00:01\r\u001b[K     |███████████████████████████████▏| 204kB 10.3MB/s eta 0:00:01\r\u001b[K     |████████████████████████████████| 215kB 10.3MB/s \n",
            "\u001b[?25hInstalling collected packages: PySastrawi\n",
            "Successfully installed PySastrawi-1.2.0\n"
          ],
          "name": "stdout"
        }
      ]
    },
    {
      "cell_type": "code",
      "metadata": {
        "id": "GrNsQlktxQjM"
      },
      "source": [
        "from Sastrawi.Stemmer.StemmerFactory import StemmerFactory\n",
        "factory = StemmerFactory()\n",
        "stemmer = factory.create_stemmer()\n",
        "\n",
        "join_tweet = [\" \".join(tweet) for tweet in removed_stopwords_tweets]\n",
        "stemmed_tweets = [stemmer.stem(word) for word in join_tweet]"
      ],
      "execution_count": null,
      "outputs": []
    },
    {
      "cell_type": "code",
      "metadata": {
        "colab": {
          "base_uri": "https://localhost:8080/"
        },
        "id": "OGO2An1fDsdh",
        "outputId": "4ccb0e2a-7367-4c2a-be96-0b433feca087"
      },
      "source": [
        "print(stemmed_tweets[90]) #d1\n",
        "print(stemmed_tweets[77]) #d2\n",
        "print(stemmed_tweets[161]) #d3\n",
        "print(stemmed_tweets[38]) #d4\n",
        "print(stemmed_tweets[121]) #d5"
      ],
      "execution_count": null,
      "outputs": [
        {
          "output_type": "stream",
          "text": [
            "uu cipta kerja topang bangun ekonomi imbang tumbuh damping jaga lingkung lanjut sejahtera sosial\n",
            "minggu diam mk komentar tajam jabar sederhana paham netizen bodoh ruu cipta kerja alur mudah usaha nol incar gaji buruh rendah bukti cek industri manufaktur jabar tutup\n",
            "omnibus law uu cipta kerja skandal legislasi\n",
            "ruu cipta kerja potensi ancam dimensi hidup mundur kualitas demokrasi tingkat resiko bencana ekologis hak hidup taruh\n",
            "uu cipta kerja cipta lapang kerja\n"
          ],
          "name": "stdout"
        }
      ]
    },
    {
      "cell_type": "markdown",
      "metadata": {
        "id": "F3enQAgv8vON"
      },
      "source": [
        "#Store Into DataFrame"
      ]
    },
    {
      "cell_type": "code",
      "metadata": {
        "id": "yg6ECZRP2VAt"
      },
      "source": [
        "data = {'Tweet':stemmed_tweets, 'Sentiment':tweets['Sentiment']} \n",
        "preprocessed_dataset = pd.DataFrame(data) "
      ],
      "execution_count": null,
      "outputs": []
    },
    {
      "cell_type": "code",
      "metadata": {
        "colab": {
          "base_uri": "https://localhost:8080/",
          "height": 359
        },
        "id": "JcNNRL9L8dpw",
        "outputId": "3da52abb-ff38-45b5-86d3-a563557fb22d"
      },
      "source": [
        "preprocessed_dataset.head(10)"
      ],
      "execution_count": null,
      "outputs": [
        {
          "output_type": "execute_result",
          "data": {
            "text/html": [
              "<div>\n",
              "<style scoped>\n",
              "    .dataframe tbody tr th:only-of-type {\n",
              "        vertical-align: middle;\n",
              "    }\n",
              "\n",
              "    .dataframe tbody tr th {\n",
              "        vertical-align: top;\n",
              "    }\n",
              "\n",
              "    .dataframe thead th {\n",
              "        text-align: right;\n",
              "    }\n",
              "</style>\n",
              "<table border=\"1\" class=\"dataframe\">\n",
              "  <thead>\n",
              "    <tr style=\"text-align: right;\">\n",
              "      <th></th>\n",
              "      <th>Tweet</th>\n",
              "      <th>Sentiment</th>\n",
              "    </tr>\n",
              "  </thead>\n",
              "  <tbody>\n",
              "    <tr>\n",
              "      <th>0</th>\n",
              "      <td>ruu cipta kerja mudah peluang investasi regula...</td>\n",
              "      <td>1</td>\n",
              "    </tr>\n",
              "    <tr>\n",
              "      <th>1</th>\n",
              "      <td>ruu cipta kerja pasti hukum usaha pasti hukum ...</td>\n",
              "      <td>1</td>\n",
              "    </tr>\n",
              "    <tr>\n",
              "      <th>2</th>\n",
              "      <td>omnibus law ruu cipta kerja penting investor b...</td>\n",
              "      <td>0</td>\n",
              "    </tr>\n",
              "    <tr>\n",
              "      <th>3</th>\n",
              "      <td>perintah wakil rakyat lindung rakyat indonesia...</td>\n",
              "      <td>0</td>\n",
              "    </tr>\n",
              "    <tr>\n",
              "      <th>4</th>\n",
              "      <td>tangkap habis nonton jelas jokowi ruu cipta ke...</td>\n",
              "      <td>1</td>\n",
              "    </tr>\n",
              "    <tr>\n",
              "      <th>5</th>\n",
              "      <td>tolak uu cipta kerja</td>\n",
              "      <td>0</td>\n",
              "    </tr>\n",
              "    <tr>\n",
              "      <th>6</th>\n",
              "      <td>uu cipta kerja tidak cipta lapang kerja kuat o...</td>\n",
              "      <td>0</td>\n",
              "    </tr>\n",
              "    <tr>\n",
              "      <th>7</th>\n",
              "      <td>waka mpr fpd syarief hasan ruu cipta kerja kar...</td>\n",
              "      <td>0</td>\n",
              "    </tr>\n",
              "    <tr>\n",
              "      <th>8</th>\n",
              "      <td>bahas uu cipta kerja taat prosedural</td>\n",
              "      <td>1</td>\n",
              "    </tr>\n",
              "    <tr>\n",
              "      <th>9</th>\n",
              "      <td>cipta kerja depan pasti hukum usaha kerja kait...</td>\n",
              "      <td>1</td>\n",
              "    </tr>\n",
              "  </tbody>\n",
              "</table>\n",
              "</div>"
            ],
            "text/plain": [
              "                                               Tweet  Sentiment\n",
              "0  ruu cipta kerja mudah peluang investasi regula...          1\n",
              "1  ruu cipta kerja pasti hukum usaha pasti hukum ...          1\n",
              "2  omnibus law ruu cipta kerja penting investor b...          0\n",
              "3  perintah wakil rakyat lindung rakyat indonesia...          0\n",
              "4  tangkap habis nonton jelas jokowi ruu cipta ke...          1\n",
              "5                               tolak uu cipta kerja          0\n",
              "6  uu cipta kerja tidak cipta lapang kerja kuat o...          0\n",
              "7  waka mpr fpd syarief hasan ruu cipta kerja kar...          0\n",
              "8               bahas uu cipta kerja taat prosedural          1\n",
              "9  cipta kerja depan pasti hukum usaha kerja kait...          1"
            ]
          },
          "metadata": {
            "tags": []
          },
          "execution_count": 191
        }
      ]
    },
    {
      "cell_type": "markdown",
      "metadata": {
        "id": "mIy_necuvMBD"
      },
      "source": [
        "#TF-IDF"
      ]
    },
    {
      "cell_type": "code",
      "metadata": {
        "id": "jOPQ6B0J_H02"
      },
      "source": [
        "import pandas as pd\n",
        "X = preprocessed_dataset['Tweet']\n",
        "y = preprocessed_dataset['Sentiment']"
      ],
      "execution_count": null,
      "outputs": []
    },
    {
      "cell_type": "code",
      "metadata": {
        "id": "GFN1igdZlhl1"
      },
      "source": [
        "from sklearn.feature_extraction.text import TfidfVectorizer\n",
        "\n",
        "vectorizer = TfidfVectorizer()    \n",
        "tfidf = vectorizer.fit_transform(X).toarray()"
      ],
      "execution_count": null,
      "outputs": []
    },
    {
      "cell_type": "code",
      "metadata": {
        "id": "e4OlWoBains-"
      },
      "source": [
        "import pickle\r\n",
        "\r\n",
        "pickle.dump(vectorizer.vocabulary_,open(\"feature.pkl\",\"wb\"))"
      ],
      "execution_count": null,
      "outputs": []
    },
    {
      "cell_type": "code",
      "metadata": {
        "id": "vcqUac0QwbBB"
      },
      "source": [
        "tfidfDataFrame = pd.DataFrame(tfidf, columns=vectorizer.get_feature_names())"
      ],
      "execution_count": null,
      "outputs": []
    },
    {
      "cell_type": "code",
      "metadata": {
        "id": "jMZVb_cSwwWr"
      },
      "source": [
        "tfidfDataFrame.to_csv('tfidf.csv')"
      ],
      "execution_count": null,
      "outputs": []
    },
    {
      "cell_type": "code",
      "metadata": {
        "id": "Qc5VvfMovORQ"
      },
      "source": [
        "from sklearn.model_selection import train_test_split\n",
        "\n",
        "X_train, X_test, y_train, y_test = train_test_split(tfidf, y, test_size=0.1, random_state=42)"
      ],
      "execution_count": null,
      "outputs": []
    },
    {
      "cell_type": "code",
      "metadata": {
        "colab": {
          "base_uri": "https://localhost:8080/"
        },
        "id": "fv6MpTeNNvUW",
        "outputId": "ab560331-5de8-43f4-94f8-94e132d2da2c"
      },
      "source": [
        "y_test.value_counts()"
      ],
      "execution_count": null,
      "outputs": [
        {
          "output_type": "execute_result",
          "data": {
            "text/plain": [
              "1    53\n",
              "0    47\n",
              "Name: Sentiment, dtype: int64"
            ]
          },
          "metadata": {
            "tags": []
          },
          "execution_count": 17
        }
      ]
    },
    {
      "cell_type": "code",
      "metadata": {
        "colab": {
          "base_uri": "https://localhost:8080/",
          "height": 405
        },
        "id": "XiWNE4H146lN",
        "outputId": "31b983b4-0836-4e80-d613-ce9378b432b3"
      },
      "source": [
        "data_latih = pd.DataFrame(X_train, columns=vectorizer.get_feature_names())\r\n",
        "data_latih.head(10)"
      ],
      "execution_count": null,
      "outputs": [
        {
          "output_type": "execute_result",
          "data": {
            "text/html": [
              "<div>\n",
              "<style scoped>\n",
              "    .dataframe tbody tr th:only-of-type {\n",
              "        vertical-align: middle;\n",
              "    }\n",
              "\n",
              "    .dataframe tbody tr th {\n",
              "        vertical-align: top;\n",
              "    }\n",
              "\n",
              "    .dataframe thead th {\n",
              "        text-align: right;\n",
              "    }\n",
              "</style>\n",
              "<table border=\"1\" class=\"dataframe\">\n",
              "  <thead>\n",
              "    <tr style=\"text-align: right;\">\n",
              "      <th></th>\n",
              "      <th>aamiin</th>\n",
              "      <th>abad</th>\n",
              "      <th>abai</th>\n",
              "      <th>abaikan</th>\n",
              "      <th>abisnya</th>\n",
              "      <th>abk</th>\n",
              "      <th>acak</th>\n",
              "      <th>acaman</th>\n",
              "      <th>acuan</th>\n",
              "      <th>adat</th>\n",
              "      <th>ade</th>\n",
              "      <th>adhinegara</th>\n",
              "      <th>adik</th>\n",
              "      <th>adil</th>\n",
              "      <th>admin</th>\n",
              "      <th>administrasi</th>\n",
              "      <th>adttya</th>\n",
              "      <th>afy</th>\n",
              "      <th>agenda</th>\n",
              "      <th>agr</th>\n",
              "      <th>agraria</th>\n",
              "      <th>ah</th>\n",
              "      <th>ahli</th>\n",
              "      <th>aice</th>\n",
              "      <th>aids</th>\n",
              "      <th>air</th>\n",
              "      <th>airlangga</th>\n",
              "      <th>aja</th>\n",
              "      <th>ajukan</th>\n",
              "      <th>akademis</th>\n",
              "      <th>akademisi</th>\n",
              "      <th>akibat</th>\n",
              "      <th>akn</th>\n",
              "      <th>akomodasi</th>\n",
              "      <th>akselerasi</th>\n",
              "      <th>akses</th>\n",
              "      <th>aksi</th>\n",
              "      <th>aktivis</th>\n",
              "      <th>aktivitas</th>\n",
              "      <th>akun</th>\n",
              "      <th>...</th>\n",
              "      <th>wenangan</th>\n",
              "      <th>what</th>\n",
              "      <th>why</th>\n",
              "      <th>widodo</th>\n",
              "      <th>wilayah</th>\n",
              "      <th>willy</th>\n",
              "      <th>wiraswasta</th>\n",
              "      <th>wirausaha</th>\n",
              "      <th>wirausahawan</th>\n",
              "      <th>with</th>\n",
              "      <th>work</th>\n",
              "      <th>world</th>\n",
              "      <th>wow</th>\n",
              "      <th>wpmnvxy</th>\n",
              "      <th>wpp</th>\n",
              "      <th>wr</th>\n",
              "      <th>wujud</th>\n",
              "      <th>wujudkan</th>\n",
              "      <th>wxanbn</th>\n",
              "      <th>yaa</th>\n",
              "      <th>yaaa</th>\n",
              "      <th>yakinlah</th>\n",
              "      <th>yaps</th>\n",
              "      <th>yes</th>\n",
              "      <th>yogya</th>\n",
              "      <th>yok</th>\n",
              "      <th>you</th>\n",
              "      <th>your</th>\n",
              "      <th>yth</th>\n",
              "      <th>yudhistira</th>\n",
              "      <th>yudikatif</th>\n",
              "      <th>yuk</th>\n",
              "      <th>yuuuk</th>\n",
              "      <th>zalim</th>\n",
              "      <th>zalimi</th>\n",
              "      <th>zaman</th>\n",
              "      <th>zero</th>\n",
              "      <th>zona</th>\n",
              "      <th>zonk</th>\n",
              "      <th>zul</th>\n",
              "    </tr>\n",
              "  </thead>\n",
              "  <tbody>\n",
              "    <tr>\n",
              "      <th>0</th>\n",
              "      <td>0.0</td>\n",
              "      <td>0.0</td>\n",
              "      <td>0.0</td>\n",
              "      <td>0.0</td>\n",
              "      <td>0.0</td>\n",
              "      <td>0.0</td>\n",
              "      <td>0.0</td>\n",
              "      <td>0.0</td>\n",
              "      <td>0.0</td>\n",
              "      <td>0.000000</td>\n",
              "      <td>0.0</td>\n",
              "      <td>0.0</td>\n",
              "      <td>0.0</td>\n",
              "      <td>0.000000</td>\n",
              "      <td>0.0</td>\n",
              "      <td>0.0</td>\n",
              "      <td>0.0</td>\n",
              "      <td>0.0</td>\n",
              "      <td>0.0</td>\n",
              "      <td>0.0</td>\n",
              "      <td>0.0</td>\n",
              "      <td>0.0</td>\n",
              "      <td>0.0</td>\n",
              "      <td>0.0</td>\n",
              "      <td>0.0</td>\n",
              "      <td>0.0</td>\n",
              "      <td>0.0</td>\n",
              "      <td>0.0</td>\n",
              "      <td>0.0</td>\n",
              "      <td>0.0</td>\n",
              "      <td>0.0</td>\n",
              "      <td>0.000000</td>\n",
              "      <td>0.0</td>\n",
              "      <td>0.0</td>\n",
              "      <td>0.0</td>\n",
              "      <td>0.0</td>\n",
              "      <td>0.0</td>\n",
              "      <td>0.0</td>\n",
              "      <td>0.0</td>\n",
              "      <td>0.0</td>\n",
              "      <td>...</td>\n",
              "      <td>0.0</td>\n",
              "      <td>0.0</td>\n",
              "      <td>0.0</td>\n",
              "      <td>0.0</td>\n",
              "      <td>0.0</td>\n",
              "      <td>0.0</td>\n",
              "      <td>0.0</td>\n",
              "      <td>0.0</td>\n",
              "      <td>0.0</td>\n",
              "      <td>0.0</td>\n",
              "      <td>0.0</td>\n",
              "      <td>0.0</td>\n",
              "      <td>0.0</td>\n",
              "      <td>0.0</td>\n",
              "      <td>0.0</td>\n",
              "      <td>0.0</td>\n",
              "      <td>0.0</td>\n",
              "      <td>0.0</td>\n",
              "      <td>0.0</td>\n",
              "      <td>0.0</td>\n",
              "      <td>0.0</td>\n",
              "      <td>0.0</td>\n",
              "      <td>0.0</td>\n",
              "      <td>0.0</td>\n",
              "      <td>0.0</td>\n",
              "      <td>0.0</td>\n",
              "      <td>0.0</td>\n",
              "      <td>0.0</td>\n",
              "      <td>0.0</td>\n",
              "      <td>0.0</td>\n",
              "      <td>0.0</td>\n",
              "      <td>0.0</td>\n",
              "      <td>0.0</td>\n",
              "      <td>0.0</td>\n",
              "      <td>0.0</td>\n",
              "      <td>0.0</td>\n",
              "      <td>0.0</td>\n",
              "      <td>0.0</td>\n",
              "      <td>0.0</td>\n",
              "      <td>0.0</td>\n",
              "    </tr>\n",
              "    <tr>\n",
              "      <th>1</th>\n",
              "      <td>0.0</td>\n",
              "      <td>0.0</td>\n",
              "      <td>0.0</td>\n",
              "      <td>0.0</td>\n",
              "      <td>0.0</td>\n",
              "      <td>0.0</td>\n",
              "      <td>0.0</td>\n",
              "      <td>0.0</td>\n",
              "      <td>0.0</td>\n",
              "      <td>0.000000</td>\n",
              "      <td>0.0</td>\n",
              "      <td>0.0</td>\n",
              "      <td>0.0</td>\n",
              "      <td>0.000000</td>\n",
              "      <td>0.0</td>\n",
              "      <td>0.0</td>\n",
              "      <td>0.0</td>\n",
              "      <td>0.0</td>\n",
              "      <td>0.0</td>\n",
              "      <td>0.0</td>\n",
              "      <td>0.0</td>\n",
              "      <td>0.0</td>\n",
              "      <td>0.0</td>\n",
              "      <td>0.0</td>\n",
              "      <td>0.0</td>\n",
              "      <td>0.0</td>\n",
              "      <td>0.0</td>\n",
              "      <td>0.0</td>\n",
              "      <td>0.0</td>\n",
              "      <td>0.0</td>\n",
              "      <td>0.0</td>\n",
              "      <td>0.248112</td>\n",
              "      <td>0.0</td>\n",
              "      <td>0.0</td>\n",
              "      <td>0.0</td>\n",
              "      <td>0.0</td>\n",
              "      <td>0.0</td>\n",
              "      <td>0.0</td>\n",
              "      <td>0.0</td>\n",
              "      <td>0.0</td>\n",
              "      <td>...</td>\n",
              "      <td>0.0</td>\n",
              "      <td>0.0</td>\n",
              "      <td>0.0</td>\n",
              "      <td>0.0</td>\n",
              "      <td>0.0</td>\n",
              "      <td>0.0</td>\n",
              "      <td>0.0</td>\n",
              "      <td>0.0</td>\n",
              "      <td>0.0</td>\n",
              "      <td>0.0</td>\n",
              "      <td>0.0</td>\n",
              "      <td>0.0</td>\n",
              "      <td>0.0</td>\n",
              "      <td>0.0</td>\n",
              "      <td>0.0</td>\n",
              "      <td>0.0</td>\n",
              "      <td>0.0</td>\n",
              "      <td>0.0</td>\n",
              "      <td>0.0</td>\n",
              "      <td>0.0</td>\n",
              "      <td>0.0</td>\n",
              "      <td>0.0</td>\n",
              "      <td>0.0</td>\n",
              "      <td>0.0</td>\n",
              "      <td>0.0</td>\n",
              "      <td>0.0</td>\n",
              "      <td>0.0</td>\n",
              "      <td>0.0</td>\n",
              "      <td>0.0</td>\n",
              "      <td>0.0</td>\n",
              "      <td>0.0</td>\n",
              "      <td>0.0</td>\n",
              "      <td>0.0</td>\n",
              "      <td>0.0</td>\n",
              "      <td>0.0</td>\n",
              "      <td>0.0</td>\n",
              "      <td>0.0</td>\n",
              "      <td>0.0</td>\n",
              "      <td>0.0</td>\n",
              "      <td>0.0</td>\n",
              "    </tr>\n",
              "    <tr>\n",
              "      <th>2</th>\n",
              "      <td>0.0</td>\n",
              "      <td>0.0</td>\n",
              "      <td>0.0</td>\n",
              "      <td>0.0</td>\n",
              "      <td>0.0</td>\n",
              "      <td>0.0</td>\n",
              "      <td>0.0</td>\n",
              "      <td>0.0</td>\n",
              "      <td>0.0</td>\n",
              "      <td>0.000000</td>\n",
              "      <td>0.0</td>\n",
              "      <td>0.0</td>\n",
              "      <td>0.0</td>\n",
              "      <td>0.000000</td>\n",
              "      <td>0.0</td>\n",
              "      <td>0.0</td>\n",
              "      <td>0.0</td>\n",
              "      <td>0.0</td>\n",
              "      <td>0.0</td>\n",
              "      <td>0.0</td>\n",
              "      <td>0.0</td>\n",
              "      <td>0.0</td>\n",
              "      <td>0.0</td>\n",
              "      <td>0.0</td>\n",
              "      <td>0.0</td>\n",
              "      <td>0.0</td>\n",
              "      <td>0.0</td>\n",
              "      <td>0.0</td>\n",
              "      <td>0.0</td>\n",
              "      <td>0.0</td>\n",
              "      <td>0.0</td>\n",
              "      <td>0.000000</td>\n",
              "      <td>0.0</td>\n",
              "      <td>0.0</td>\n",
              "      <td>0.0</td>\n",
              "      <td>0.0</td>\n",
              "      <td>0.0</td>\n",
              "      <td>0.0</td>\n",
              "      <td>0.0</td>\n",
              "      <td>0.0</td>\n",
              "      <td>...</td>\n",
              "      <td>0.0</td>\n",
              "      <td>0.0</td>\n",
              "      <td>0.0</td>\n",
              "      <td>0.0</td>\n",
              "      <td>0.0</td>\n",
              "      <td>0.0</td>\n",
              "      <td>0.0</td>\n",
              "      <td>0.0</td>\n",
              "      <td>0.0</td>\n",
              "      <td>0.0</td>\n",
              "      <td>0.0</td>\n",
              "      <td>0.0</td>\n",
              "      <td>0.0</td>\n",
              "      <td>0.0</td>\n",
              "      <td>0.0</td>\n",
              "      <td>0.0</td>\n",
              "      <td>0.0</td>\n",
              "      <td>0.0</td>\n",
              "      <td>0.0</td>\n",
              "      <td>0.0</td>\n",
              "      <td>0.0</td>\n",
              "      <td>0.0</td>\n",
              "      <td>0.0</td>\n",
              "      <td>0.0</td>\n",
              "      <td>0.0</td>\n",
              "      <td>0.0</td>\n",
              "      <td>0.0</td>\n",
              "      <td>0.0</td>\n",
              "      <td>0.0</td>\n",
              "      <td>0.0</td>\n",
              "      <td>0.0</td>\n",
              "      <td>0.0</td>\n",
              "      <td>0.0</td>\n",
              "      <td>0.0</td>\n",
              "      <td>0.0</td>\n",
              "      <td>0.0</td>\n",
              "      <td>0.0</td>\n",
              "      <td>0.0</td>\n",
              "      <td>0.0</td>\n",
              "      <td>0.0</td>\n",
              "    </tr>\n",
              "    <tr>\n",
              "      <th>3</th>\n",
              "      <td>0.0</td>\n",
              "      <td>0.0</td>\n",
              "      <td>0.0</td>\n",
              "      <td>0.0</td>\n",
              "      <td>0.0</td>\n",
              "      <td>0.0</td>\n",
              "      <td>0.0</td>\n",
              "      <td>0.0</td>\n",
              "      <td>0.0</td>\n",
              "      <td>0.000000</td>\n",
              "      <td>0.0</td>\n",
              "      <td>0.0</td>\n",
              "      <td>0.0</td>\n",
              "      <td>0.271463</td>\n",
              "      <td>0.0</td>\n",
              "      <td>0.0</td>\n",
              "      <td>0.0</td>\n",
              "      <td>0.0</td>\n",
              "      <td>0.0</td>\n",
              "      <td>0.0</td>\n",
              "      <td>0.0</td>\n",
              "      <td>0.0</td>\n",
              "      <td>0.0</td>\n",
              "      <td>0.0</td>\n",
              "      <td>0.0</td>\n",
              "      <td>0.0</td>\n",
              "      <td>0.0</td>\n",
              "      <td>0.0</td>\n",
              "      <td>0.0</td>\n",
              "      <td>0.0</td>\n",
              "      <td>0.0</td>\n",
              "      <td>0.000000</td>\n",
              "      <td>0.0</td>\n",
              "      <td>0.0</td>\n",
              "      <td>0.0</td>\n",
              "      <td>0.0</td>\n",
              "      <td>0.0</td>\n",
              "      <td>0.0</td>\n",
              "      <td>0.0</td>\n",
              "      <td>0.0</td>\n",
              "      <td>...</td>\n",
              "      <td>0.0</td>\n",
              "      <td>0.0</td>\n",
              "      <td>0.0</td>\n",
              "      <td>0.0</td>\n",
              "      <td>0.0</td>\n",
              "      <td>0.0</td>\n",
              "      <td>0.0</td>\n",
              "      <td>0.0</td>\n",
              "      <td>0.0</td>\n",
              "      <td>0.0</td>\n",
              "      <td>0.0</td>\n",
              "      <td>0.0</td>\n",
              "      <td>0.0</td>\n",
              "      <td>0.0</td>\n",
              "      <td>0.0</td>\n",
              "      <td>0.0</td>\n",
              "      <td>0.0</td>\n",
              "      <td>0.0</td>\n",
              "      <td>0.0</td>\n",
              "      <td>0.0</td>\n",
              "      <td>0.0</td>\n",
              "      <td>0.0</td>\n",
              "      <td>0.0</td>\n",
              "      <td>0.0</td>\n",
              "      <td>0.0</td>\n",
              "      <td>0.0</td>\n",
              "      <td>0.0</td>\n",
              "      <td>0.0</td>\n",
              "      <td>0.0</td>\n",
              "      <td>0.0</td>\n",
              "      <td>0.0</td>\n",
              "      <td>0.0</td>\n",
              "      <td>0.0</td>\n",
              "      <td>0.0</td>\n",
              "      <td>0.0</td>\n",
              "      <td>0.0</td>\n",
              "      <td>0.0</td>\n",
              "      <td>0.0</td>\n",
              "      <td>0.0</td>\n",
              "      <td>0.0</td>\n",
              "    </tr>\n",
              "    <tr>\n",
              "      <th>4</th>\n",
              "      <td>0.0</td>\n",
              "      <td>0.0</td>\n",
              "      <td>0.0</td>\n",
              "      <td>0.0</td>\n",
              "      <td>0.0</td>\n",
              "      <td>0.0</td>\n",
              "      <td>0.0</td>\n",
              "      <td>0.0</td>\n",
              "      <td>0.0</td>\n",
              "      <td>0.000000</td>\n",
              "      <td>0.0</td>\n",
              "      <td>0.0</td>\n",
              "      <td>0.0</td>\n",
              "      <td>0.000000</td>\n",
              "      <td>0.0</td>\n",
              "      <td>0.0</td>\n",
              "      <td>0.0</td>\n",
              "      <td>0.0</td>\n",
              "      <td>0.0</td>\n",
              "      <td>0.0</td>\n",
              "      <td>0.0</td>\n",
              "      <td>0.0</td>\n",
              "      <td>0.0</td>\n",
              "      <td>0.0</td>\n",
              "      <td>0.0</td>\n",
              "      <td>0.0</td>\n",
              "      <td>0.0</td>\n",
              "      <td>0.0</td>\n",
              "      <td>0.0</td>\n",
              "      <td>0.0</td>\n",
              "      <td>0.0</td>\n",
              "      <td>0.000000</td>\n",
              "      <td>0.0</td>\n",
              "      <td>0.0</td>\n",
              "      <td>0.0</td>\n",
              "      <td>0.0</td>\n",
              "      <td>0.0</td>\n",
              "      <td>0.0</td>\n",
              "      <td>0.0</td>\n",
              "      <td>0.0</td>\n",
              "      <td>...</td>\n",
              "      <td>0.0</td>\n",
              "      <td>0.0</td>\n",
              "      <td>0.0</td>\n",
              "      <td>0.0</td>\n",
              "      <td>0.0</td>\n",
              "      <td>0.0</td>\n",
              "      <td>0.0</td>\n",
              "      <td>0.0</td>\n",
              "      <td>0.0</td>\n",
              "      <td>0.0</td>\n",
              "      <td>0.0</td>\n",
              "      <td>0.0</td>\n",
              "      <td>0.0</td>\n",
              "      <td>0.0</td>\n",
              "      <td>0.0</td>\n",
              "      <td>0.0</td>\n",
              "      <td>0.0</td>\n",
              "      <td>0.0</td>\n",
              "      <td>0.0</td>\n",
              "      <td>0.0</td>\n",
              "      <td>0.0</td>\n",
              "      <td>0.0</td>\n",
              "      <td>0.0</td>\n",
              "      <td>0.0</td>\n",
              "      <td>0.0</td>\n",
              "      <td>0.0</td>\n",
              "      <td>0.0</td>\n",
              "      <td>0.0</td>\n",
              "      <td>0.0</td>\n",
              "      <td>0.0</td>\n",
              "      <td>0.0</td>\n",
              "      <td>0.0</td>\n",
              "      <td>0.0</td>\n",
              "      <td>0.0</td>\n",
              "      <td>0.0</td>\n",
              "      <td>0.0</td>\n",
              "      <td>0.0</td>\n",
              "      <td>0.0</td>\n",
              "      <td>0.0</td>\n",
              "      <td>0.0</td>\n",
              "    </tr>\n",
              "    <tr>\n",
              "      <th>5</th>\n",
              "      <td>0.0</td>\n",
              "      <td>0.0</td>\n",
              "      <td>0.0</td>\n",
              "      <td>0.0</td>\n",
              "      <td>0.0</td>\n",
              "      <td>0.0</td>\n",
              "      <td>0.0</td>\n",
              "      <td>0.0</td>\n",
              "      <td>0.0</td>\n",
              "      <td>0.000000</td>\n",
              "      <td>0.0</td>\n",
              "      <td>0.0</td>\n",
              "      <td>0.0</td>\n",
              "      <td>0.000000</td>\n",
              "      <td>0.0</td>\n",
              "      <td>0.0</td>\n",
              "      <td>0.0</td>\n",
              "      <td>0.0</td>\n",
              "      <td>0.0</td>\n",
              "      <td>0.0</td>\n",
              "      <td>0.0</td>\n",
              "      <td>0.0</td>\n",
              "      <td>0.0</td>\n",
              "      <td>0.0</td>\n",
              "      <td>0.0</td>\n",
              "      <td>0.0</td>\n",
              "      <td>0.0</td>\n",
              "      <td>0.0</td>\n",
              "      <td>0.0</td>\n",
              "      <td>0.0</td>\n",
              "      <td>0.0</td>\n",
              "      <td>0.000000</td>\n",
              "      <td>0.0</td>\n",
              "      <td>0.0</td>\n",
              "      <td>0.0</td>\n",
              "      <td>0.0</td>\n",
              "      <td>0.0</td>\n",
              "      <td>0.0</td>\n",
              "      <td>0.0</td>\n",
              "      <td>0.0</td>\n",
              "      <td>...</td>\n",
              "      <td>0.0</td>\n",
              "      <td>0.0</td>\n",
              "      <td>0.0</td>\n",
              "      <td>0.0</td>\n",
              "      <td>0.0</td>\n",
              "      <td>0.0</td>\n",
              "      <td>0.0</td>\n",
              "      <td>0.0</td>\n",
              "      <td>0.0</td>\n",
              "      <td>0.0</td>\n",
              "      <td>0.0</td>\n",
              "      <td>0.0</td>\n",
              "      <td>0.0</td>\n",
              "      <td>0.0</td>\n",
              "      <td>0.0</td>\n",
              "      <td>0.0</td>\n",
              "      <td>0.0</td>\n",
              "      <td>0.0</td>\n",
              "      <td>0.0</td>\n",
              "      <td>0.0</td>\n",
              "      <td>0.0</td>\n",
              "      <td>0.0</td>\n",
              "      <td>0.0</td>\n",
              "      <td>0.0</td>\n",
              "      <td>0.0</td>\n",
              "      <td>0.0</td>\n",
              "      <td>0.0</td>\n",
              "      <td>0.0</td>\n",
              "      <td>0.0</td>\n",
              "      <td>0.0</td>\n",
              "      <td>0.0</td>\n",
              "      <td>0.0</td>\n",
              "      <td>0.0</td>\n",
              "      <td>0.0</td>\n",
              "      <td>0.0</td>\n",
              "      <td>0.0</td>\n",
              "      <td>0.0</td>\n",
              "      <td>0.0</td>\n",
              "      <td>0.0</td>\n",
              "      <td>0.0</td>\n",
              "    </tr>\n",
              "    <tr>\n",
              "      <th>6</th>\n",
              "      <td>0.0</td>\n",
              "      <td>0.0</td>\n",
              "      <td>0.0</td>\n",
              "      <td>0.0</td>\n",
              "      <td>0.0</td>\n",
              "      <td>0.0</td>\n",
              "      <td>0.0</td>\n",
              "      <td>0.0</td>\n",
              "      <td>0.0</td>\n",
              "      <td>0.000000</td>\n",
              "      <td>0.0</td>\n",
              "      <td>0.0</td>\n",
              "      <td>0.0</td>\n",
              "      <td>0.000000</td>\n",
              "      <td>0.0</td>\n",
              "      <td>0.0</td>\n",
              "      <td>0.0</td>\n",
              "      <td>0.0</td>\n",
              "      <td>0.0</td>\n",
              "      <td>0.0</td>\n",
              "      <td>0.0</td>\n",
              "      <td>0.0</td>\n",
              "      <td>0.0</td>\n",
              "      <td>0.0</td>\n",
              "      <td>0.0</td>\n",
              "      <td>0.0</td>\n",
              "      <td>0.0</td>\n",
              "      <td>0.0</td>\n",
              "      <td>0.0</td>\n",
              "      <td>0.0</td>\n",
              "      <td>0.0</td>\n",
              "      <td>0.000000</td>\n",
              "      <td>0.0</td>\n",
              "      <td>0.0</td>\n",
              "      <td>0.0</td>\n",
              "      <td>0.0</td>\n",
              "      <td>0.0</td>\n",
              "      <td>0.0</td>\n",
              "      <td>0.0</td>\n",
              "      <td>0.0</td>\n",
              "      <td>...</td>\n",
              "      <td>0.0</td>\n",
              "      <td>0.0</td>\n",
              "      <td>0.0</td>\n",
              "      <td>0.0</td>\n",
              "      <td>0.0</td>\n",
              "      <td>0.0</td>\n",
              "      <td>0.0</td>\n",
              "      <td>0.0</td>\n",
              "      <td>0.0</td>\n",
              "      <td>0.0</td>\n",
              "      <td>0.0</td>\n",
              "      <td>0.0</td>\n",
              "      <td>0.0</td>\n",
              "      <td>0.0</td>\n",
              "      <td>0.0</td>\n",
              "      <td>0.0</td>\n",
              "      <td>0.0</td>\n",
              "      <td>0.0</td>\n",
              "      <td>0.0</td>\n",
              "      <td>0.0</td>\n",
              "      <td>0.0</td>\n",
              "      <td>0.0</td>\n",
              "      <td>0.0</td>\n",
              "      <td>0.0</td>\n",
              "      <td>0.0</td>\n",
              "      <td>0.0</td>\n",
              "      <td>0.0</td>\n",
              "      <td>0.0</td>\n",
              "      <td>0.0</td>\n",
              "      <td>0.0</td>\n",
              "      <td>0.0</td>\n",
              "      <td>0.0</td>\n",
              "      <td>0.0</td>\n",
              "      <td>0.0</td>\n",
              "      <td>0.0</td>\n",
              "      <td>0.0</td>\n",
              "      <td>0.0</td>\n",
              "      <td>0.0</td>\n",
              "      <td>0.0</td>\n",
              "      <td>0.0</td>\n",
              "    </tr>\n",
              "    <tr>\n",
              "      <th>7</th>\n",
              "      <td>0.0</td>\n",
              "      <td>0.0</td>\n",
              "      <td>0.0</td>\n",
              "      <td>0.0</td>\n",
              "      <td>0.0</td>\n",
              "      <td>0.0</td>\n",
              "      <td>0.0</td>\n",
              "      <td>0.0</td>\n",
              "      <td>0.0</td>\n",
              "      <td>0.172116</td>\n",
              "      <td>0.0</td>\n",
              "      <td>0.0</td>\n",
              "      <td>0.0</td>\n",
              "      <td>0.000000</td>\n",
              "      <td>0.0</td>\n",
              "      <td>0.0</td>\n",
              "      <td>0.0</td>\n",
              "      <td>0.0</td>\n",
              "      <td>0.0</td>\n",
              "      <td>0.0</td>\n",
              "      <td>0.0</td>\n",
              "      <td>0.0</td>\n",
              "      <td>0.0</td>\n",
              "      <td>0.0</td>\n",
              "      <td>0.0</td>\n",
              "      <td>0.0</td>\n",
              "      <td>0.0</td>\n",
              "      <td>0.0</td>\n",
              "      <td>0.0</td>\n",
              "      <td>0.0</td>\n",
              "      <td>0.0</td>\n",
              "      <td>0.000000</td>\n",
              "      <td>0.0</td>\n",
              "      <td>0.0</td>\n",
              "      <td>0.0</td>\n",
              "      <td>0.0</td>\n",
              "      <td>0.0</td>\n",
              "      <td>0.0</td>\n",
              "      <td>0.0</td>\n",
              "      <td>0.0</td>\n",
              "      <td>...</td>\n",
              "      <td>0.0</td>\n",
              "      <td>0.0</td>\n",
              "      <td>0.0</td>\n",
              "      <td>0.0</td>\n",
              "      <td>0.0</td>\n",
              "      <td>0.0</td>\n",
              "      <td>0.0</td>\n",
              "      <td>0.0</td>\n",
              "      <td>0.0</td>\n",
              "      <td>0.0</td>\n",
              "      <td>0.0</td>\n",
              "      <td>0.0</td>\n",
              "      <td>0.0</td>\n",
              "      <td>0.0</td>\n",
              "      <td>0.0</td>\n",
              "      <td>0.0</td>\n",
              "      <td>0.0</td>\n",
              "      <td>0.0</td>\n",
              "      <td>0.0</td>\n",
              "      <td>0.0</td>\n",
              "      <td>0.0</td>\n",
              "      <td>0.0</td>\n",
              "      <td>0.0</td>\n",
              "      <td>0.0</td>\n",
              "      <td>0.0</td>\n",
              "      <td>0.0</td>\n",
              "      <td>0.0</td>\n",
              "      <td>0.0</td>\n",
              "      <td>0.0</td>\n",
              "      <td>0.0</td>\n",
              "      <td>0.0</td>\n",
              "      <td>0.0</td>\n",
              "      <td>0.0</td>\n",
              "      <td>0.0</td>\n",
              "      <td>0.0</td>\n",
              "      <td>0.0</td>\n",
              "      <td>0.0</td>\n",
              "      <td>0.0</td>\n",
              "      <td>0.0</td>\n",
              "      <td>0.0</td>\n",
              "    </tr>\n",
              "    <tr>\n",
              "      <th>8</th>\n",
              "      <td>0.0</td>\n",
              "      <td>0.0</td>\n",
              "      <td>0.0</td>\n",
              "      <td>0.0</td>\n",
              "      <td>0.0</td>\n",
              "      <td>0.0</td>\n",
              "      <td>0.0</td>\n",
              "      <td>0.0</td>\n",
              "      <td>0.0</td>\n",
              "      <td>0.000000</td>\n",
              "      <td>0.0</td>\n",
              "      <td>0.0</td>\n",
              "      <td>0.0</td>\n",
              "      <td>0.000000</td>\n",
              "      <td>0.0</td>\n",
              "      <td>0.0</td>\n",
              "      <td>0.0</td>\n",
              "      <td>0.0</td>\n",
              "      <td>0.0</td>\n",
              "      <td>0.0</td>\n",
              "      <td>0.0</td>\n",
              "      <td>0.0</td>\n",
              "      <td>0.0</td>\n",
              "      <td>0.0</td>\n",
              "      <td>0.0</td>\n",
              "      <td>0.0</td>\n",
              "      <td>0.0</td>\n",
              "      <td>0.0</td>\n",
              "      <td>0.0</td>\n",
              "      <td>0.0</td>\n",
              "      <td>0.0</td>\n",
              "      <td>0.000000</td>\n",
              "      <td>0.0</td>\n",
              "      <td>0.0</td>\n",
              "      <td>0.0</td>\n",
              "      <td>0.0</td>\n",
              "      <td>0.0</td>\n",
              "      <td>0.0</td>\n",
              "      <td>0.0</td>\n",
              "      <td>0.0</td>\n",
              "      <td>...</td>\n",
              "      <td>0.0</td>\n",
              "      <td>0.0</td>\n",
              "      <td>0.0</td>\n",
              "      <td>0.0</td>\n",
              "      <td>0.0</td>\n",
              "      <td>0.0</td>\n",
              "      <td>0.0</td>\n",
              "      <td>0.0</td>\n",
              "      <td>0.0</td>\n",
              "      <td>0.0</td>\n",
              "      <td>0.0</td>\n",
              "      <td>0.0</td>\n",
              "      <td>0.0</td>\n",
              "      <td>0.0</td>\n",
              "      <td>0.0</td>\n",
              "      <td>0.0</td>\n",
              "      <td>0.0</td>\n",
              "      <td>0.0</td>\n",
              "      <td>0.0</td>\n",
              "      <td>0.0</td>\n",
              "      <td>0.0</td>\n",
              "      <td>0.0</td>\n",
              "      <td>0.0</td>\n",
              "      <td>0.0</td>\n",
              "      <td>0.0</td>\n",
              "      <td>0.0</td>\n",
              "      <td>0.0</td>\n",
              "      <td>0.0</td>\n",
              "      <td>0.0</td>\n",
              "      <td>0.0</td>\n",
              "      <td>0.0</td>\n",
              "      <td>0.0</td>\n",
              "      <td>0.0</td>\n",
              "      <td>0.0</td>\n",
              "      <td>0.0</td>\n",
              "      <td>0.0</td>\n",
              "      <td>0.0</td>\n",
              "      <td>0.0</td>\n",
              "      <td>0.0</td>\n",
              "      <td>0.0</td>\n",
              "    </tr>\n",
              "    <tr>\n",
              "      <th>9</th>\n",
              "      <td>0.0</td>\n",
              "      <td>0.0</td>\n",
              "      <td>0.0</td>\n",
              "      <td>0.0</td>\n",
              "      <td>0.0</td>\n",
              "      <td>0.0</td>\n",
              "      <td>0.0</td>\n",
              "      <td>0.0</td>\n",
              "      <td>0.0</td>\n",
              "      <td>0.000000</td>\n",
              "      <td>0.0</td>\n",
              "      <td>0.0</td>\n",
              "      <td>0.0</td>\n",
              "      <td>0.000000</td>\n",
              "      <td>0.0</td>\n",
              "      <td>0.0</td>\n",
              "      <td>0.0</td>\n",
              "      <td>0.0</td>\n",
              "      <td>0.0</td>\n",
              "      <td>0.0</td>\n",
              "      <td>0.0</td>\n",
              "      <td>0.0</td>\n",
              "      <td>0.0</td>\n",
              "      <td>0.0</td>\n",
              "      <td>0.0</td>\n",
              "      <td>0.0</td>\n",
              "      <td>0.0</td>\n",
              "      <td>0.0</td>\n",
              "      <td>0.0</td>\n",
              "      <td>0.0</td>\n",
              "      <td>0.0</td>\n",
              "      <td>0.000000</td>\n",
              "      <td>0.0</td>\n",
              "      <td>0.0</td>\n",
              "      <td>0.0</td>\n",
              "      <td>0.0</td>\n",
              "      <td>0.0</td>\n",
              "      <td>0.0</td>\n",
              "      <td>0.0</td>\n",
              "      <td>0.0</td>\n",
              "      <td>...</td>\n",
              "      <td>0.0</td>\n",
              "      <td>0.0</td>\n",
              "      <td>0.0</td>\n",
              "      <td>0.0</td>\n",
              "      <td>0.0</td>\n",
              "      <td>0.0</td>\n",
              "      <td>0.0</td>\n",
              "      <td>0.0</td>\n",
              "      <td>0.0</td>\n",
              "      <td>0.0</td>\n",
              "      <td>0.0</td>\n",
              "      <td>0.0</td>\n",
              "      <td>0.0</td>\n",
              "      <td>0.0</td>\n",
              "      <td>0.0</td>\n",
              "      <td>0.0</td>\n",
              "      <td>0.0</td>\n",
              "      <td>0.0</td>\n",
              "      <td>0.0</td>\n",
              "      <td>0.0</td>\n",
              "      <td>0.0</td>\n",
              "      <td>0.0</td>\n",
              "      <td>0.0</td>\n",
              "      <td>0.0</td>\n",
              "      <td>0.0</td>\n",
              "      <td>0.0</td>\n",
              "      <td>0.0</td>\n",
              "      <td>0.0</td>\n",
              "      <td>0.0</td>\n",
              "      <td>0.0</td>\n",
              "      <td>0.0</td>\n",
              "      <td>0.0</td>\n",
              "      <td>0.0</td>\n",
              "      <td>0.0</td>\n",
              "      <td>0.0</td>\n",
              "      <td>0.0</td>\n",
              "      <td>0.0</td>\n",
              "      <td>0.0</td>\n",
              "      <td>0.0</td>\n",
              "      <td>0.0</td>\n",
              "    </tr>\n",
              "  </tbody>\n",
              "</table>\n",
              "<p>10 rows × 3372 columns</p>\n",
              "</div>"
            ],
            "text/plain": [
              "   aamiin  abad  abai  abaikan  abisnya  ...  zaman  zero  zona  zonk  zul\n",
              "0     0.0   0.0   0.0      0.0      0.0  ...    0.0   0.0   0.0   0.0  0.0\n",
              "1     0.0   0.0   0.0      0.0      0.0  ...    0.0   0.0   0.0   0.0  0.0\n",
              "2     0.0   0.0   0.0      0.0      0.0  ...    0.0   0.0   0.0   0.0  0.0\n",
              "3     0.0   0.0   0.0      0.0      0.0  ...    0.0   0.0   0.0   0.0  0.0\n",
              "4     0.0   0.0   0.0      0.0      0.0  ...    0.0   0.0   0.0   0.0  0.0\n",
              "5     0.0   0.0   0.0      0.0      0.0  ...    0.0   0.0   0.0   0.0  0.0\n",
              "6     0.0   0.0   0.0      0.0      0.0  ...    0.0   0.0   0.0   0.0  0.0\n",
              "7     0.0   0.0   0.0      0.0      0.0  ...    0.0   0.0   0.0   0.0  0.0\n",
              "8     0.0   0.0   0.0      0.0      0.0  ...    0.0   0.0   0.0   0.0  0.0\n",
              "9     0.0   0.0   0.0      0.0      0.0  ...    0.0   0.0   0.0   0.0  0.0\n",
              "\n",
              "[10 rows x 3372 columns]"
            ]
          },
          "metadata": {
            "tags": []
          },
          "execution_count": 16
        }
      ]
    },
    {
      "cell_type": "code",
      "metadata": {
        "colab": {
          "base_uri": "https://localhost:8080/"
        },
        "id": "KXd-txa4tn-I",
        "outputId": "962e0c94-a821-4cc0-9cf7-5acac2e8889e"
      },
      "source": [
        "y_test.value_counts()"
      ],
      "execution_count": null,
      "outputs": [
        {
          "output_type": "execute_result",
          "data": {
            "text/plain": [
              "1    54\n",
              "0    46\n",
              "Name: Sentiment, dtype: int64"
            ]
          },
          "metadata": {
            "tags": []
          },
          "execution_count": 15
        }
      ]
    },
    {
      "cell_type": "code",
      "metadata": {
        "id": "0rm6xBQ6QEAZ"
      },
      "source": [
        ""
      ],
      "execution_count": null,
      "outputs": []
    },
    {
      "cell_type": "markdown",
      "metadata": {
        "id": "ejFy17dZ2i0A"
      },
      "source": [
        "#Pengujian Konvergensi"
      ]
    },
    {
      "cell_type": "code",
      "metadata": {
        "id": "SM3925qe_NVX",
        "colab": {
          "base_uri": "https://localhost:8080/"
        },
        "outputId": "7311116b-d21f-421e-c595-6de94a454074"
      },
      "source": [
        "from sklearn.neural_network import MLPClassifier\r\n",
        "from sklearn.metrics import accuracy_score\r\n",
        "tabel_percobaan = pd.DataFrame()\r\n",
        "y_pred_proba = []\r\n",
        "y_pred = []\r\n",
        "for i in range(5):\r\n",
        "    clf = MLPClassifier(    activation='logistic', \r\n",
        "                            learning_rate_init=0.5, \r\n",
        "                            tol= -1,\r\n",
        "                            max_iter=300, \r\n",
        "                            solver='sgd',\r\n",
        "                            momentum=0,\r\n",
        "                            learning_rate='constant',\r\n",
        "                            hidden_layer_sizes=(10))\r\n",
        "    clf.fit(X_train, y_train)\r\n",
        "print (clf.n_layers_)\r\n",
        "print (clf.n_iter_)\r\n",
        "print (clf.loss_)\r\n",
        "\r\n",
        "y_pred_proba.append(clf.predict_proba(X_test))\r\n",
        "y_pred.append(clf.predict(X_test))\r\n"
      ],
      "execution_count": null,
      "outputs": [
        {
          "output_type": "stream",
          "text": [
            "/usr/local/lib/python3.6/dist-packages/sklearn/neural_network/_multilayer_perceptron.py:571: ConvergenceWarning: Stochastic Optimizer: Maximum iterations (300) reached and the optimization hasn't converged yet.\n",
            "  % self.max_iter, ConvergenceWarning)\n",
            "/usr/local/lib/python3.6/dist-packages/sklearn/neural_network/_multilayer_perceptron.py:571: ConvergenceWarning: Stochastic Optimizer: Maximum iterations (300) reached and the optimization hasn't converged yet.\n",
            "  % self.max_iter, ConvergenceWarning)\n",
            "/usr/local/lib/python3.6/dist-packages/sklearn/neural_network/_multilayer_perceptron.py:571: ConvergenceWarning: Stochastic Optimizer: Maximum iterations (300) reached and the optimization hasn't converged yet.\n",
            "  % self.max_iter, ConvergenceWarning)\n",
            "/usr/local/lib/python3.6/dist-packages/sklearn/neural_network/_multilayer_perceptron.py:571: ConvergenceWarning: Stochastic Optimizer: Maximum iterations (300) reached and the optimization hasn't converged yet.\n",
            "  % self.max_iter, ConvergenceWarning)\n"
          ],
          "name": "stderr"
        },
        {
          "output_type": "stream",
          "text": [
            "3\n",
            "300\n",
            "0.1086050554821753\n"
          ],
          "name": "stdout"
        },
        {
          "output_type": "stream",
          "text": [
            "/usr/local/lib/python3.6/dist-packages/sklearn/neural_network/_multilayer_perceptron.py:571: ConvergenceWarning: Stochastic Optimizer: Maximum iterations (300) reached and the optimization hasn't converged yet.\n",
            "  % self.max_iter, ConvergenceWarning)\n"
          ],
          "name": "stderr"
        }
      ]
    },
    {
      "cell_type": "code",
      "metadata": {
        "colab": {
          "base_uri": "https://localhost:8080/",
          "height": 282
        },
        "id": "VY_Cyz_z8s6c",
        "outputId": "f6be7da9-885e-45d4-be97-574dcae69bf7"
      },
      "source": [
        "pd.DataFrame(clf.loss_curve_).plot()"
      ],
      "execution_count": null,
      "outputs": [
        {
          "output_type": "execute_result",
          "data": {
            "text/plain": [
              "<matplotlib.axes._subplots.AxesSubplot at 0x7fe8c41cc9e8>"
            ]
          },
          "metadata": {
            "tags": []
          },
          "execution_count": 35
        },
        {
          "output_type": "display_data",
          "data": {
            "image/png": "[encoded data removed]",
            "text/plain": [
              "<Figure size 432x288 with 1 Axes>"
            ]
          },
          "metadata": {
            "tags": [],
            "needs_background": "light"
          }
        }
      ]
    },
    {
      "cell_type": "code",
      "metadata": {
        "colab": {
          "base_uri": "https://localhost:8080/"
        },
        "id": "93_pgChTAWLx",
        "outputId": "edf4371f-94c2-4563-941e-b021648ecce3"
      },
      "source": [
        "accuracy_score(y_test, y_pred[0])"
      ],
      "execution_count": null,
      "outputs": [
        {
          "output_type": "execute_result",
          "data": {
            "text/plain": [
              "0.93"
            ]
          },
          "metadata": {
            "tags": []
          },
          "execution_count": 37
        }
      ]
    },
    {
      "cell_type": "code",
      "metadata": {
        "colab": {
          "base_uri": "https://localhost:8080/"
        },
        "id": "TNfD_1MK9LLn",
        "outputId": "539968b5-33e1-46aa-89e2-2def186d2df3"
      },
      "source": [
        "y_pred_proba"
      ],
      "execution_count": null,
      "outputs": [
        {
          "output_type": "execute_result",
          "data": {
            "text/plain": [
              "[array([[9.89216037e-01, 1.07839631e-02],\n",
              "        [9.56122816e-03, 9.90438772e-01],\n",
              "        [9.95058128e-01, 4.94187238e-03],\n",
              "        [7.27058980e-01, 2.72941020e-01],\n",
              "        [3.08411364e-06, 9.99996916e-01],\n",
              "        [9.99934375e-01, 6.56254196e-05],\n",
              "        [2.79190917e-02, 9.72080908e-01],\n",
              "        [3.50264097e-01, 6.49735903e-01],\n",
              "        [9.90935093e-01, 9.06490711e-03],\n",
              "        [9.91391342e-01, 8.60865808e-03],\n",
              "        [1.91162838e-03, 9.98088372e-01],\n",
              "        [9.99922578e-01, 7.74223188e-05],\n",
              "        [7.67335166e-04, 9.99232665e-01],\n",
              "        [6.10859670e-03, 9.93891403e-01],\n",
              "        [1.76088189e-03, 9.98239118e-01],\n",
              "        [6.42278813e-01, 3.57721187e-01],\n",
              "        [9.99380629e-01, 6.19370608e-04],\n",
              "        [3.96464212e-05, 9.99960354e-01],\n",
              "        [3.03133796e-05, 9.99969687e-01],\n",
              "        [9.99895055e-01, 1.04945037e-04],\n",
              "        [9.77952522e-01, 2.20474780e-02],\n",
              "        [9.90051165e-01, 9.94883536e-03],\n",
              "        [9.95852329e-01, 4.14767086e-03],\n",
              "        [2.25490731e-01, 7.74509269e-01],\n",
              "        [2.85149616e-03, 9.97148504e-01],\n",
              "        [9.98827522e-01, 1.17247807e-03],\n",
              "        [9.99412572e-01, 5.87428353e-04],\n",
              "        [9.99777732e-01, 2.22267813e-04],\n",
              "        [3.76503954e-06, 9.99996235e-01],\n",
              "        [9.99841321e-01, 1.58679293e-04],\n",
              "        [1.99769551e-02, 9.80023045e-01],\n",
              "        [9.99813347e-01, 1.86653162e-04],\n",
              "        [2.40280633e-02, 9.75971937e-01],\n",
              "        [4.07741937e-06, 9.99995923e-01],\n",
              "        [1.55956254e-01, 8.44043746e-01],\n",
              "        [2.81513550e-04, 9.99718486e-01],\n",
              "        [4.58602227e-04, 9.99541398e-01],\n",
              "        [9.99982654e-01, 1.73457394e-05],\n",
              "        [9.99033063e-01, 9.66936859e-04],\n",
              "        [9.99796096e-01, 2.03904121e-04],\n",
              "        [3.81963858e-03, 9.96180361e-01],\n",
              "        [1.38410797e-02, 9.86158920e-01],\n",
              "        [9.99974514e-01, 2.54856434e-05],\n",
              "        [2.64164964e-04, 9.99735835e-01],\n",
              "        [9.50569783e-01, 4.94302168e-02],\n",
              "        [3.26897039e-03, 9.96731030e-01],\n",
              "        [7.35320120e-02, 9.26467988e-01],\n",
              "        [9.99802138e-01, 1.97862445e-04],\n",
              "        [6.00485085e-03, 9.93995149e-01],\n",
              "        [2.05310912e-01, 7.94689088e-01],\n",
              "        [8.63749877e-01, 1.36250123e-01],\n",
              "        [3.27763291e-03, 9.96722367e-01],\n",
              "        [9.99178676e-01, 8.21324150e-04],\n",
              "        [9.64158343e-01, 3.58416572e-02],\n",
              "        [9.96635897e-01, 3.36410285e-03],\n",
              "        [9.93720217e-01, 6.27978344e-03],\n",
              "        [3.28614037e-03, 9.96713860e-01],\n",
              "        [2.50863003e-05, 9.99974914e-01],\n",
              "        [6.44289429e-04, 9.99355711e-01],\n",
              "        [9.99811110e-01, 1.88890082e-04],\n",
              "        [9.84765959e-01, 1.52340411e-02],\n",
              "        [9.81155554e-01, 1.88444461e-02],\n",
              "        [9.89629383e-01, 1.03706166e-02],\n",
              "        [9.98545373e-01, 1.45462709e-03],\n",
              "        [9.35375203e-01, 6.46247972e-02],\n",
              "        [3.36564354e-04, 9.99663436e-01],\n",
              "        [7.86348182e-03, 9.92136518e-01],\n",
              "        [1.46521260e-02, 9.85347874e-01],\n",
              "        [2.46991034e-03, 9.97530090e-01],\n",
              "        [1.28729454e-03, 9.98712705e-01],\n",
              "        [3.25978592e-06, 9.99996740e-01],\n",
              "        [9.97713347e-01, 2.28665336e-03],\n",
              "        [9.99925604e-01, 7.43959479e-05],\n",
              "        [3.45420727e-05, 9.99965458e-01],\n",
              "        [9.16029105e-01, 8.39708952e-02],\n",
              "        [7.18109317e-01, 2.81890683e-01],\n",
              "        [1.05708347e-05, 9.99989429e-01],\n",
              "        [9.98188797e-01, 1.81120253e-03],\n",
              "        [6.74917233e-05, 9.99932508e-01],\n",
              "        [9.23030572e-05, 9.99907697e-01],\n",
              "        [4.97078101e-03, 9.95029219e-01],\n",
              "        [9.99886523e-01, 1.13476942e-04],\n",
              "        [3.36451086e-03, 9.96635489e-01],\n",
              "        [9.67804899e-01, 3.21951014e-02],\n",
              "        [9.26326896e-01, 7.36731044e-02],\n",
              "        [3.53054317e-04, 9.99646946e-01],\n",
              "        [1.60032470e-05, 9.99983997e-01],\n",
              "        [3.32382010e-01, 6.67617990e-01],\n",
              "        [8.67804871e-05, 9.99913220e-01],\n",
              "        [9.65039299e-01, 3.49607006e-02],\n",
              "        [9.54837583e-01, 4.51624167e-02],\n",
              "        [9.91051076e-01, 8.94892351e-03],\n",
              "        [1.44742310e-06, 9.99998553e-01],\n",
              "        [2.65811874e-01, 7.34188126e-01],\n",
              "        [9.99939285e-01, 6.07146708e-05],\n",
              "        [1.23989472e-01, 8.76010528e-01],\n",
              "        [9.34638892e-01, 6.53611084e-02],\n",
              "        [4.27882667e-02, 9.57211733e-01],\n",
              "        [8.54618170e-01, 1.45381830e-01],\n",
              "        [8.74532836e-01, 1.25467164e-01]]),\n",
              " array([[9.88702041e-01, 1.12979588e-02],\n",
              "        [9.51427880e-03, 9.90485721e-01],\n",
              "        [9.95529238e-01, 4.47076162e-03],\n",
              "        [7.17944848e-01, 2.82055152e-01],\n",
              "        [2.96168507e-06, 9.99997038e-01],\n",
              "        [9.99926412e-01, 7.35884963e-05],\n",
              "        [2.77748072e-02, 9.72225193e-01],\n",
              "        [3.47836089e-01, 6.52163911e-01],\n",
              "        [9.91227481e-01, 8.77251908e-03],\n",
              "        [9.92543404e-01, 7.45659552e-03],\n",
              "        [1.69141293e-03, 9.98308587e-01],\n",
              "        [9.99931096e-01, 6.89039874e-05],\n",
              "        [7.93062162e-04, 9.99206938e-01],\n",
              "        [5.87764494e-03, 9.94122355e-01],\n",
              "        [1.71765233e-03, 9.98282348e-01],\n",
              "        [6.08465992e-01, 3.91534008e-01],\n",
              "        [9.99425468e-01, 5.74532447e-04],\n",
              "        [3.69608423e-05, 9.99963039e-01],\n",
              "        [3.13924300e-05, 9.99968608e-01],\n",
              "        [9.99905622e-01, 9.43784680e-05],\n",
              "        [9.78829322e-01, 2.11706776e-02],\n",
              "        [9.90707513e-01, 9.29248748e-03],\n",
              "        [9.95252408e-01, 4.74759175e-03],\n",
              "        [2.34461828e-01, 7.65538172e-01],\n",
              "        [2.94248699e-03, 9.97057513e-01],\n",
              "        [9.98932946e-01, 1.06705417e-03],\n",
              "        [9.99387139e-01, 6.12861270e-04],\n",
              "        [9.99770406e-01, 2.29593620e-04],\n",
              "        [3.48337784e-06, 9.99996517e-01],\n",
              "        [9.99841260e-01, 1.58740236e-04],\n",
              "        [1.76146218e-02, 9.82385378e-01],\n",
              "        [9.99804441e-01, 1.95559033e-04],\n",
              "        [2.26311430e-02, 9.77368857e-01],\n",
              "        [3.80703036e-06, 9.99996193e-01],\n",
              "        [1.52835399e-01, 8.47164601e-01],\n",
              "        [2.91721051e-04, 9.99708279e-01],\n",
              "        [4.55958947e-04, 9.99544041e-01],\n",
              "        [9.99982699e-01, 1.73012535e-05],\n",
              "        [9.99111627e-01, 8.88373351e-04],\n",
              "        [9.99796810e-01, 2.03189641e-04],\n",
              "        [3.49705964e-03, 9.96502940e-01],\n",
              "        [1.37230101e-02, 9.86276990e-01],\n",
              "        [9.99972048e-01, 2.79515977e-05],\n",
              "        [2.59107170e-04, 9.99740893e-01],\n",
              "        [9.52926755e-01, 4.70732454e-02],\n",
              "        [3.19026369e-03, 9.96809736e-01],\n",
              "        [8.55279874e-02, 9.14472013e-01],\n",
              "        [9.99815135e-01, 1.84864611e-04],\n",
              "        [6.16517317e-03, 9.93834827e-01],\n",
              "        [1.92699964e-01, 8.07300036e-01],\n",
              "        [8.42103261e-01, 1.57896739e-01],\n",
              "        [3.50854966e-03, 9.96491450e-01],\n",
              "        [9.99169034e-01, 8.30965754e-04],\n",
              "        [9.61743637e-01, 3.82563631e-02],\n",
              "        [9.96092567e-01, 3.90743285e-03],\n",
              "        [9.93588560e-01, 6.41143998e-03],\n",
              "        [3.21504475e-03, 9.96784955e-01],\n",
              "        [2.51800638e-05, 9.99974820e-01],\n",
              "        [6.70041988e-04, 9.99329958e-01],\n",
              "        [9.99825646e-01, 1.74353580e-04],\n",
              "        [9.86574246e-01, 1.34257539e-02],\n",
              "        [9.78604851e-01, 2.13951493e-02],\n",
              "        [9.89312478e-01, 1.06875220e-02],\n",
              "        [9.98507210e-01, 1.49278977e-03],\n",
              "        [9.41385584e-01, 5.86144160e-02],\n",
              "        [3.41953500e-04, 9.99658047e-01],\n",
              "        [8.71430517e-03, 9.91285695e-01],\n",
              "        [1.46706578e-02, 9.85329342e-01],\n",
              "        [2.39012172e-03, 9.97609878e-01],\n",
              "        [1.06307162e-03, 9.98936928e-01],\n",
              "        [3.15402474e-06, 9.99996846e-01],\n",
              "        [9.97507731e-01, 2.49226938e-03],\n",
              "        [9.99925028e-01, 7.49723955e-05],\n",
              "        [3.40343568e-05, 9.99965966e-01],\n",
              "        [9.20482551e-01, 7.95174489e-02],\n",
              "        [7.01392821e-01, 2.98607179e-01],\n",
              "        [9.43453872e-06, 9.99990565e-01],\n",
              "        [9.98072567e-01, 1.92743273e-03],\n",
              "        [6.32429783e-05, 9.99936757e-01],\n",
              "        [8.92395502e-05, 9.99910760e-01],\n",
              "        [4.40455227e-03, 9.95595448e-01],\n",
              "        [9.99888537e-01, 1.11463221e-04],\n",
              "        [3.28647848e-03, 9.96713522e-01],\n",
              "        [9.72348175e-01, 2.76518248e-02],\n",
              "        [9.31842665e-01, 6.81573345e-02],\n",
              "        [3.45967535e-04, 9.99654032e-01],\n",
              "        [1.56004672e-05, 9.99984400e-01],\n",
              "        [3.05046674e-01, 6.94953326e-01],\n",
              "        [7.81648647e-05, 9.99921835e-01],\n",
              "        [9.59221579e-01, 4.07784210e-02],\n",
              "        [9.59823173e-01, 4.01768270e-02],\n",
              "        [9.91061768e-01, 8.93823227e-03],\n",
              "        [1.39412974e-06, 9.99998606e-01],\n",
              "        [2.69069183e-01, 7.30930817e-01],\n",
              "        [9.99940673e-01, 5.93267636e-05],\n",
              "        [1.16513540e-01, 8.83486460e-01],\n",
              "        [9.35414713e-01, 6.45852869e-02],\n",
              "        [4.42568154e-02, 9.55743185e-01],\n",
              "        [8.39977454e-01, 1.60022546e-01],\n",
              "        [8.77649081e-01, 1.22350919e-01]]),\n",
              " array([[9.88532070e-01, 1.14679297e-02],\n",
              "        [8.92158180e-03, 9.91078418e-01],\n",
              "        [9.95919938e-01, 4.08006249e-03],\n",
              "        [7.28390124e-01, 2.71609876e-01],\n",
              "        [2.38480720e-06, 9.99997615e-01],\n",
              "        [9.99922721e-01, 7.72785233e-05],\n",
              "        [2.53688170e-02, 9.74631183e-01],\n",
              "        [3.44610045e-01, 6.55389955e-01],\n",
              "        [9.90179306e-01, 9.82069355e-03],\n",
              "        [9.91428680e-01, 8.57132026e-03],\n",
              "        [1.75108765e-03, 9.98248912e-01],\n",
              "        [9.99927241e-01, 7.27587737e-05],\n",
              "        [7.61056635e-04, 9.99238943e-01],\n",
              "        [5.49728331e-03, 9.94502717e-01],\n",
              "        [1.62996702e-03, 9.98370033e-01],\n",
              "        [6.22086344e-01, 3.77913656e-01],\n",
              "        [9.99345778e-01, 6.54221958e-04],\n",
              "        [3.37227365e-05, 9.99966277e-01],\n",
              "        [2.77772354e-05, 9.99972223e-01],\n",
              "        [9.99891040e-01, 1.08960425e-04],\n",
              "        [9.79223569e-01, 2.07764309e-02],\n",
              "        [9.89023026e-01, 1.09769737e-02],\n",
              "        [9.95418312e-01, 4.58168752e-03],\n",
              "        [2.37504832e-01, 7.62495168e-01],\n",
              "        [2.72982626e-03, 9.97270174e-01],\n",
              "        [9.98822479e-01, 1.17752140e-03],\n",
              "        [9.99457168e-01, 5.42832489e-04],\n",
              "        [9.99778403e-01, 2.21596969e-04],\n",
              "        [2.80199658e-06, 9.99997198e-01],\n",
              "        [9.99833286e-01, 1.66714218e-04],\n",
              "        [2.11103110e-02, 9.78889689e-01],\n",
              "        [9.99810232e-01, 1.89768447e-04],\n",
              "        [2.48460199e-02, 9.75153980e-01],\n",
              "        [3.10871860e-06, 9.99996891e-01],\n",
              "        [1.68514013e-01, 8.31485987e-01],\n",
              "        [2.82945999e-04, 9.99717054e-01],\n",
              "        [4.32621597e-04, 9.99567378e-01],\n",
              "        [9.99983245e-01, 1.67554187e-05],\n",
              "        [9.99156698e-01, 8.43301995e-04],\n",
              "        [9.99790033e-01, 2.09967159e-04],\n",
              "        [3.63954006e-03, 9.96360460e-01],\n",
              "        [1.29521678e-02, 9.87047832e-01],\n",
              "        [9.99976231e-01, 2.37694355e-05],\n",
              "        [2.48038819e-04, 9.99751961e-01],\n",
              "        [9.54540935e-01, 4.54590648e-02],\n",
              "        [2.91243730e-03, 9.97087563e-01],\n",
              "        [7.36483334e-02, 9.26351667e-01],\n",
              "        [9.99795337e-01, 2.04663330e-04],\n",
              "        [5.92707359e-03, 9.94072926e-01],\n",
              "        [1.86812122e-01, 8.13187878e-01],\n",
              "        [8.64014686e-01, 1.35985314e-01],\n",
              "        [3.48061493e-03, 9.96519385e-01],\n",
              "        [9.99093023e-01, 9.06976637e-04],\n",
              "        [9.67224329e-01, 3.27756713e-02],\n",
              "        [9.96461340e-01, 3.53866047e-03],\n",
              "        [9.94414175e-01, 5.58582501e-03],\n",
              "        [3.21364341e-03, 9.96786357e-01],\n",
              "        [2.26389349e-05, 9.99977361e-01],\n",
              "        [6.50127311e-04, 9.99349873e-01],\n",
              "        [9.99819108e-01, 1.80892441e-04],\n",
              "        [9.86717348e-01, 1.32826518e-02],\n",
              "        [9.80580438e-01, 1.94195619e-02],\n",
              "        [9.90170867e-01, 9.82913340e-03],\n",
              "        [9.98448915e-01, 1.55108497e-03],\n",
              "        [9.35824024e-01, 6.41759760e-02],\n",
              "        [3.06448049e-04, 9.99693552e-01],\n",
              "        [7.53858370e-03, 9.92461416e-01],\n",
              "        [1.37077385e-02, 9.86292261e-01],\n",
              "        [2.14524590e-03, 9.97854754e-01],\n",
              "        [1.34263327e-03, 9.98657367e-01],\n",
              "        [2.51802392e-06, 9.99997482e-01],\n",
              "        [9.97685371e-01, 2.31462887e-03],\n",
              "        [9.99926504e-01, 7.34956881e-05],\n",
              "        [3.25795894e-05, 9.99967420e-01],\n",
              "        [9.23041736e-01, 7.69582637e-02],\n",
              "        [7.09603189e-01, 2.90396811e-01],\n",
              "        [8.59869695e-06, 9.99991401e-01],\n",
              "        [9.98045686e-01, 1.95431396e-03],\n",
              "        [6.24017573e-05, 9.99937598e-01],\n",
              "        [8.24711495e-05, 9.99917529e-01],\n",
              "        [4.89856443e-03, 9.95101436e-01],\n",
              "        [9.99882399e-01, 1.17601123e-04],\n",
              "        [3.44525331e-03, 9.96554747e-01],\n",
              "        [9.68896752e-01, 3.11032478e-02],\n",
              "        [9.30218574e-01, 6.97814257e-02],\n",
              "        [3.32954786e-04, 9.99667045e-01],\n",
              "        [1.40080260e-05, 9.99985992e-01],\n",
              "        [3.21108382e-01, 6.78891618e-01],\n",
              "        [7.40919420e-05, 9.99925908e-01],\n",
              "        [9.68589400e-01, 3.14106003e-02],\n",
              "        [9.54699365e-01, 4.53006345e-02],\n",
              "        [9.90290034e-01, 9.70996586e-03],\n",
              "        [1.10340449e-06, 9.99998897e-01],\n",
              "        [2.72142574e-01, 7.27857426e-01],\n",
              "        [9.99940534e-01, 5.94662404e-05],\n",
              "        [1.23681673e-01, 8.76318327e-01],\n",
              "        [9.35490541e-01, 6.45094591e-02],\n",
              "        [4.35116131e-02, 9.56488387e-01],\n",
              "        [8.24340183e-01, 1.75659817e-01],\n",
              "        [8.60793243e-01, 1.39206757e-01]]),\n",
              " array([[9.87832799e-01, 1.21672006e-02],\n",
              "        [9.36648987e-03, 9.90633510e-01],\n",
              "        [9.95670436e-01, 4.32956380e-03],\n",
              "        [7.18122705e-01, 2.81877295e-01],\n",
              "        [1.46793453e-06, 9.99998532e-01],\n",
              "        [9.99946522e-01, 5.34784136e-05],\n",
              "        [2.75137749e-02, 9.72486225e-01],\n",
              "        [3.26627695e-01, 6.73372305e-01],\n",
              "        [9.90067485e-01, 9.93251492e-03],\n",
              "        [9.92295757e-01, 7.70424294e-03],\n",
              "        [1.53409548e-03, 9.98465905e-01],\n",
              "        [9.99943262e-01, 5.67381458e-05],\n",
              "        [6.82555172e-04, 9.99317445e-01],\n",
              "        [4.85066561e-03, 9.95149334e-01],\n",
              "        [1.68857153e-03, 9.98311428e-01],\n",
              "        [6.16327331e-01, 3.83672669e-01],\n",
              "        [9.99447773e-01, 5.52227101e-04],\n",
              "        [2.55706479e-05, 9.99974429e-01],\n",
              "        [2.25806312e-05, 9.99977419e-01],\n",
              "        [9.99922127e-01, 7.78729383e-05],\n",
              "        [9.78535497e-01, 2.14645032e-02],\n",
              "        [9.91509153e-01, 8.49084720e-03],\n",
              "        [9.95721388e-01, 4.27861209e-03],\n",
              "        [2.32188816e-01, 7.67811184e-01],\n",
              "        [2.78916804e-03, 9.97210832e-01],\n",
              "        [9.98960640e-01, 1.03936049e-03],\n",
              "        [9.99487009e-01, 5.12990511e-04],\n",
              "        [9.99815471e-01, 1.84528804e-04],\n",
              "        [1.79000351e-06, 9.99998210e-01],\n",
              "        [9.99855426e-01, 1.44573937e-04],\n",
              "        [1.89683731e-02, 9.81031627e-01],\n",
              "        [9.99823125e-01, 1.76875201e-04],\n",
              "        [2.18226670e-02, 9.78177333e-01],\n",
              "        [1.87748201e-06, 9.99998123e-01],\n",
              "        [1.67410149e-01, 8.32589851e-01],\n",
              "        [2.54907009e-04, 9.99745093e-01],\n",
              "        [3.89382330e-04, 9.99610618e-01],\n",
              "        [9.99989641e-01, 1.03587886e-05],\n",
              "        [9.99189525e-01, 8.10474800e-04],\n",
              "        [9.99850626e-01, 1.49374228e-04],\n",
              "        [3.92940738e-03, 9.96070593e-01],\n",
              "        [1.41906433e-02, 9.85809357e-01],\n",
              "        [9.99981978e-01, 1.80221863e-05],\n",
              "        [2.17387377e-04, 9.99782613e-01],\n",
              "        [9.50440242e-01, 4.95597583e-02],\n",
              "        [2.69311368e-03, 9.97306886e-01],\n",
              "        [6.73678233e-02, 9.32632177e-01],\n",
              "        [9.99830316e-01, 1.69683931e-04],\n",
              "        [5.21797053e-03, 9.94782029e-01],\n",
              "        [2.10827779e-01, 7.89172221e-01],\n",
              "        [8.51091077e-01, 1.48908923e-01],\n",
              "        [3.42614550e-03, 9.96573854e-01],\n",
              "        [9.99263400e-01, 7.36600290e-04],\n",
              "        [9.62046030e-01, 3.79539696e-02],\n",
              "        [9.97059938e-01, 2.94006182e-03],\n",
              "        [9.93986951e-01, 6.01304935e-03],\n",
              "        [2.82641457e-03, 9.97173585e-01],\n",
              "        [1.62943802e-05, 9.99983706e-01],\n",
              "        [5.68269521e-04, 9.99431730e-01],\n",
              "        [9.99856967e-01, 1.43032684e-04],\n",
              "        [9.86619941e-01, 1.33800589e-02],\n",
              "        [9.79559413e-01, 2.04405872e-02],\n",
              "        [9.89369232e-01, 1.06307683e-02],\n",
              "        [9.98582183e-01, 1.41781699e-03],\n",
              "        [9.29838914e-01, 7.01610858e-02],\n",
              "        [2.94217795e-04, 9.99705782e-01],\n",
              "        [8.15775552e-03, 9.91842244e-01],\n",
              "        [1.28942376e-02, 9.87105762e-01],\n",
              "        [2.18794065e-03, 9.97812059e-01],\n",
              "        [1.12591931e-03, 9.98874081e-01],\n",
              "        [1.43220533e-06, 9.99998568e-01],\n",
              "        [9.97821211e-01, 2.17878894e-03],\n",
              "        [9.99940323e-01, 5.96771202e-05],\n",
              "        [2.49536459e-05, 9.99975046e-01],\n",
              "        [9.19319392e-01, 8.06806081e-02],\n",
              "        [7.26368064e-01, 2.73631936e-01],\n",
              "        [5.57875546e-06, 9.99994421e-01],\n",
              "        [9.98343979e-01, 1.65602127e-03],\n",
              "        [5.36754851e-05, 9.99946325e-01],\n",
              "        [7.09934416e-05, 9.99929007e-01],\n",
              "        [4.50123713e-03, 9.95498763e-01],\n",
              "        [9.99911234e-01, 8.87661374e-05],\n",
              "        [3.09479780e-03, 9.96905202e-01],\n",
              "        [9.68761852e-01, 3.12381481e-02],\n",
              "        [9.30473957e-01, 6.95260435e-02],\n",
              "        [2.83532760e-04, 9.99716467e-01],\n",
              "        [9.81949675e-06, 9.99990181e-01],\n",
              "        [3.06023099e-01, 6.93976901e-01],\n",
              "        [6.08976200e-05, 9.99939102e-01],\n",
              "        [9.61634501e-01, 3.83654992e-02],\n",
              "        [9.55177635e-01, 4.48223646e-02],\n",
              "        [9.91768197e-01, 8.23180288e-03],\n",
              "        [5.59292846e-07, 9.99999441e-01],\n",
              "        [2.50648439e-01, 7.49351561e-01],\n",
              "        [9.99954452e-01, 4.55482700e-05],\n",
              "        [1.21760417e-01, 8.78239583e-01],\n",
              "        [9.35436739e-01, 6.45632610e-02],\n",
              "        [4.10034927e-02, 9.58996507e-01],\n",
              "        [8.57857073e-01, 1.42142927e-01],\n",
              "        [8.85121252e-01, 1.14878748e-01]]),\n",
              " array([[9.89159161e-01, 1.08408392e-02],\n",
              "        [9.25910700e-03, 9.90740893e-01],\n",
              "        [9.95341428e-01, 4.65857212e-03],\n",
              "        [7.29370477e-01, 2.70629523e-01],\n",
              "        [1.43170232e-06, 9.99998568e-01],\n",
              "        [9.99940382e-01, 5.96177809e-05],\n",
              "        [2.66801627e-02, 9.73319837e-01],\n",
              "        [3.47416833e-01, 6.52583167e-01],\n",
              "        [9.90053391e-01, 9.94660927e-03],\n",
              "        [9.92770694e-01, 7.22930590e-03],\n",
              "        [1.70953677e-03, 9.98290463e-01],\n",
              "        [9.99937741e-01, 6.22585854e-05],\n",
              "        [7.04133609e-04, 9.99295866e-01],\n",
              "        [5.43744041e-03, 9.94562560e-01],\n",
              "        [1.56473500e-03, 9.98435265e-01],\n",
              "        [6.34615322e-01, 3.65384678e-01],\n",
              "        [9.99367876e-01, 6.32123975e-04],\n",
              "        [2.59938693e-05, 9.99974006e-01],\n",
              "        [2.05607162e-05, 9.99979439e-01],\n",
              "        [9.99909317e-01, 9.06831571e-05],\n",
              "        [9.79898086e-01, 2.01019137e-02],\n",
              "        [9.90300178e-01, 9.69982156e-03],\n",
              "        [9.95409641e-01, 4.59035946e-03],\n",
              "        [2.37739261e-01, 7.62260739e-01],\n",
              "        [2.69137978e-03, 9.97308620e-01],\n",
              "        [9.98956330e-01, 1.04366961e-03],\n",
              "        [9.99419373e-01, 5.80626754e-04],\n",
              "        [9.99773693e-01, 2.26306893e-04],\n",
              "        [1.73982771e-06, 9.99998260e-01],\n",
              "        [9.99856262e-01, 1.43738091e-04],\n",
              "        [1.91731705e-02, 9.80826829e-01],\n",
              "        [9.99812310e-01, 1.87690118e-04],\n",
              "        [2.47190209e-02, 9.75280979e-01],\n",
              "        [1.97467730e-06, 9.99998025e-01],\n",
              "        [1.58880632e-01, 8.41119368e-01],\n",
              "        [2.36433530e-04, 9.99763566e-01],\n",
              "        [3.47449270e-04, 9.99652551e-01],\n",
              "        [9.99989061e-01, 1.09385037e-05],\n",
              "        [9.99178576e-01, 8.21424044e-04],\n",
              "        [9.99827536e-01, 1.72464329e-04],\n",
              "        [3.61382401e-03, 9.96386176e-01],\n",
              "        [1.40647308e-02, 9.85935269e-01],\n",
              "        [9.99977545e-01, 2.24547192e-05],\n",
              "        [2.09415099e-04, 9.99790585e-01],\n",
              "        [9.52738433e-01, 4.72615666e-02],\n",
              "        [2.82702276e-03, 9.97172977e-01],\n",
              "        [8.00851102e-02, 9.19914890e-01],\n",
              "        [9.99841924e-01, 1.58075595e-04],\n",
              "        [5.68635073e-03, 9.94313649e-01],\n",
              "        [1.97327630e-01, 8.02672370e-01],\n",
              "        [8.78096839e-01, 1.21903161e-01],\n",
              "        [2.95243007e-03, 9.97047570e-01],\n",
              "        [9.99116482e-01, 8.83517788e-04],\n",
              "        [9.63525679e-01, 3.64743207e-02],\n",
              "        [9.96345795e-01, 3.65420494e-03],\n",
              "        [9.94614881e-01, 5.38511942e-03],\n",
              "        [2.86300297e-03, 9.97136997e-01],\n",
              "        [1.73277259e-05, 9.99982672e-01],\n",
              "        [5.70223812e-04, 9.99429776e-01],\n",
              "        [9.99865006e-01, 1.34993560e-04],\n",
              "        [9.87301636e-01, 1.26983644e-02],\n",
              "        [9.80947437e-01, 1.90525626e-02],\n",
              "        [9.90153086e-01, 9.84691446e-03],\n",
              "        [9.98589497e-01, 1.41050327e-03],\n",
              "        [9.33311309e-01, 6.66886908e-02],\n",
              "        [2.56045199e-04, 9.99743955e-01],\n",
              "        [7.81596747e-03, 9.92184033e-01],\n",
              "        [1.40799700e-02, 9.85920030e-01],\n",
              "        [2.03146328e-03, 9.97968537e-01],\n",
              "        [1.15690167e-03, 9.98843098e-01],\n",
              "        [1.44016719e-06, 9.99998560e-01],\n",
              "        [9.97554335e-01, 2.44566514e-03],\n",
              "        [9.99940244e-01, 5.97559928e-05],\n",
              "        [2.45306339e-05, 9.99975469e-01],\n",
              "        [9.32035464e-01, 6.79645360e-02],\n",
              "        [7.26753389e-01, 2.73246611e-01],\n",
              "        [5.96262712e-06, 9.99994037e-01],\n",
              "        [9.98218631e-01, 1.78136887e-03],\n",
              "        [4.58678752e-05, 9.99954132e-01],\n",
              "        [6.77517828e-05, 9.99932248e-01],\n",
              "        [4.70334339e-03, 9.95296657e-01],\n",
              "        [9.99906533e-01, 9.34666773e-05],\n",
              "        [3.13755608e-03, 9.96862444e-01],\n",
              "        [9.68173860e-01, 3.18261401e-02],\n",
              "        [9.24816193e-01, 7.51838069e-02],\n",
              "        [2.74239051e-04, 9.99725761e-01],\n",
              "        [1.02004682e-05, 9.99989800e-01],\n",
              "        [3.11656450e-01, 6.88343550e-01],\n",
              "        [6.29127641e-05, 9.99937087e-01],\n",
              "        [9.65554169e-01, 3.44458315e-02],\n",
              "        [9.53719701e-01, 4.62802995e-02],\n",
              "        [9.91045258e-01, 8.95474157e-03],\n",
              "        [5.47251829e-07, 9.99999453e-01],\n",
              "        [2.50473992e-01, 7.49526008e-01],\n",
              "        [9.99949617e-01, 5.03828281e-05],\n",
              "        [1.09003282e-01, 8.90996718e-01],\n",
              "        [9.35910268e-01, 6.40897322e-02],\n",
              "        [4.64202708e-02, 9.53579729e-01],\n",
              "        [8.42719355e-01, 1.57280645e-01],\n",
              "        [8.61962630e-01, 1.38037370e-01]])]"
            ]
          },
          "metadata": {
            "tags": []
          },
          "execution_count": 26
        }
      ]
    },
    {
      "cell_type": "code",
      "metadata": {
        "id": "EGb1UCjkNKye"
      },
      "source": [
        "tabel_percobaan['Rata-Rata'] = tabel_percobaan.mean(axis=1)"
      ],
      "execution_count": null,
      "outputs": []
    },
    {
      "cell_type": "code",
      "metadata": {
        "id": "d6HBknM_3lTT"
      },
      "source": [
        "tabel_percobaan.to_csv('tabel_percobaan_fix.csv')"
      ],
      "execution_count": null,
      "outputs": []
    },
    {
      "cell_type": "markdown",
      "metadata": {
        "id": "2jObWxkE22d4"
      },
      "source": [
        "#Pengujian Hidden Node pada Hidden Layer"
      ]
    },
    {
      "cell_type": "markdown",
      "metadata": {
        "id": "fQrjXFsK3Y4i"
      },
      "source": [
        "##10 Node"
      ]
    },
    {
      "cell_type": "code",
      "metadata": {
        "colab": {
          "base_uri": "https://localhost:8080/"
        },
        "id": "yeEchgMD4rzh",
        "outputId": "d99d99e6-1c79-4fde-ba45-cbad8d8a8657"
      },
      "source": [
        "from sklearn.neural_network import MLPClassifier\n",
        "from sklearn.metrics import accuracy_score\n",
        "score_10_node= []\n",
        "for i in range(5):\n",
        "    clf = MLPClassifier( activation='logistic', \n",
        "                        learning_rate_init=0.5, \n",
        "                        tol= -1, \n",
        "                        max_iter=1000, \n",
        "                        solver='sgd',\n",
        "                        momentum=0,\n",
        "                        learning_rate='constant',\n",
        "                        hidden_layer_sizes=(10,))\n",
        "\n",
        "    clf.fit(X_train, y_train)    \n",
        "    y_pred = clf.predict(X_test)\n",
        "    score_10_node.append(accuracy_score(y_test, y_pred))\n",
        "\n",
        "score_10_node"
      ],
      "execution_count": null,
      "outputs": [
        {
          "output_type": "stream",
          "text": [
            "/usr/local/lib/python3.6/dist-packages/sklearn/neural_network/_multilayer_perceptron.py:571: ConvergenceWarning: Stochastic Optimizer: Maximum iterations (1000) reached and the optimization hasn't converged yet.\n",
            "  % self.max_iter, ConvergenceWarning)\n",
            "/usr/local/lib/python3.6/dist-packages/sklearn/neural_network/_multilayer_perceptron.py:571: ConvergenceWarning: Stochastic Optimizer: Maximum iterations (1000) reached and the optimization hasn't converged yet.\n",
            "  % self.max_iter, ConvergenceWarning)\n",
            "/usr/local/lib/python3.6/dist-packages/sklearn/neural_network/_multilayer_perceptron.py:571: ConvergenceWarning: Stochastic Optimizer: Maximum iterations (1000) reached and the optimization hasn't converged yet.\n",
            "  % self.max_iter, ConvergenceWarning)\n",
            "/usr/local/lib/python3.6/dist-packages/sklearn/neural_network/_multilayer_perceptron.py:571: ConvergenceWarning: Stochastic Optimizer: Maximum iterations (1000) reached and the optimization hasn't converged yet.\n",
            "  % self.max_iter, ConvergenceWarning)\n",
            "/usr/local/lib/python3.6/dist-packages/sklearn/neural_network/_multilayer_perceptron.py:571: ConvergenceWarning: Stochastic Optimizer: Maximum iterations (1000) reached and the optimization hasn't converged yet.\n",
            "  % self.max_iter, ConvergenceWarning)\n"
          ],
          "name": "stderr"
        },
        {
          "output_type": "execute_result",
          "data": {
            "text/plain": [
              "[0.95, 0.95, 0.95, 0.95, 0.95]"
            ]
          },
          "metadata": {
            "tags": []
          },
          "execution_count": 43
        }
      ]
    },
    {
      "cell_type": "code",
      "metadata": {
        "colab": {
          "base_uri": "https://localhost:8080/"
        },
        "id": "NpiGb9VS_jE9",
        "outputId": "0d5f99bd-b872-48b4-858e-d792d358bdcf"
      },
      "source": [
        "from sklearn.neural_network import MLPClassifier\r\n",
        "from sklearn.metrics import accuracy_score\r\n",
        "score_10_node= []\r\n",
        "# for i in range(5):\r\n",
        "clf = MLPClassifier( activation='logistic', \r\n",
        "                        learning_rate_init=0.5, \r\n",
        "                        tol= -1, \r\n",
        "                        max_iter=1500, \r\n",
        "                        solver='sgd',\r\n",
        "                        momentum=0,\r\n",
        "                        learning_rate='constant',\r\n",
        "                        hidden_layer_sizes=(100,50,10))\r\n",
        "\r\n",
        "clf.fit(X_train, y_train)    \r\n",
        "y_pred = clf.predict(X_test)\r\n",
        "score_10_node.append(accuracy_score(y_test, y_pred))\r\n",
        "\r\n",
        "score_10_node"
      ],
      "execution_count": null,
      "outputs": [
        {
          "output_type": "stream",
          "text": [
            "/usr/local/lib/python3.6/dist-packages/sklearn/neural_network/_multilayer_perceptron.py:571: ConvergenceWarning: Stochastic Optimizer: Maximum iterations (1500) reached and the optimization hasn't converged yet.\n",
            "  % self.max_iter, ConvergenceWarning)\n"
          ],
          "name": "stderr"
        },
        {
          "output_type": "execute_result",
          "data": {
            "text/plain": [
              "[0.88]"
            ]
          },
          "metadata": {
            "tags": []
          },
          "execution_count": 21
        }
      ]
    },
    {
      "cell_type": "code",
      "metadata": {
        "colab": {
          "base_uri": "https://localhost:8080/",
          "height": 283
        },
        "id": "NKLNwhWnCDWj",
        "outputId": "06ea0721-5428-4643-bf25-d844c98b56c5"
      },
      "source": [
        "pd.DataFrame(clf.loss_curve_).plot()"
      ],
      "execution_count": null,
      "outputs": [
        {
          "output_type": "execute_result",
          "data": {
            "text/plain": [
              "<matplotlib.axes._subplots.AxesSubplot at 0x7f7c6caf9cf8>"
            ]
          },
          "metadata": {
            "tags": []
          },
          "execution_count": 22
        },
        {
          "output_type": "display_data",
          "data": {
            "image/png": "[encoded data removed]",
            "text/plain": [
              "<Figure size 432x288 with 1 Axes>"
            ]
          },
          "metadata": {
            "tags": [],
            "needs_background": "light"
          }
        }
      ]
    },
    {
      "cell_type": "markdown",
      "metadata": {
        "id": "DEXTar0A3cpQ"
      },
      "source": [
        "##50 Node"
      ]
    },
    {
      "cell_type": "code",
      "metadata": {
        "colab": {
          "base_uri": "https://localhost:8080/"
        },
        "id": "lMu9qHDP3f9S",
        "outputId": "10f4b85e-a977-4bf8-ee09-791bfb505be0"
      },
      "source": [
        "from sklearn.neural_network import MLPClassifier\r\n",
        "from sklearn.metrics import accuracy_score\r\n",
        "tabel_percobaan_50 = pd.DataFrame()\r\n",
        "\r\n",
        "score_50_node= []\r\n",
        "for i in range(5):\r\n",
        "    clf = MLPClassifier(activation='logistic', \r\n",
        "                            learning_rate_init=0.5, \r\n",
        "                            tol= -1, \r\n",
        "                            max_iter=1500, \r\n",
        "                            solver='sgd',\r\n",
        "                            momentum=0,\r\n",
        "                            learning_rate='constant',\r\n",
        "                           hidden_layer_sizes=(50,))\r\n",
        "    clf.fit(X_train, y_train)\r\n",
        "    \r\n",
        "    y_pred = clf.predict(X_test)\r\n",
        "    score_50_node.append(accuracy_score(y_test, y_pred))\r\n",
        "    tabel_percobaan_50.insert(i, \"Percobaan (%i)\" % i, clf.loss_curve_)\r\n",
        "# print(\"--- %s seconds ---\" % (time.time() - start_time))\r\n",
        "\r\n",
        "print(score_50_node)"
      ],
      "execution_count": null,
      "outputs": [
        {
          "output_type": "stream",
          "text": [
            "/usr/local/lib/python3.6/dist-packages/sklearn/neural_network/_multilayer_perceptron.py:571: ConvergenceWarning: Stochastic Optimizer: Maximum iterations (1500) reached and the optimization hasn't converged yet.\n",
            "  % self.max_iter, ConvergenceWarning)\n",
            "/usr/local/lib/python3.6/dist-packages/sklearn/neural_network/_multilayer_perceptron.py:571: ConvergenceWarning: Stochastic Optimizer: Maximum iterations (1500) reached and the optimization hasn't converged yet.\n",
            "  % self.max_iter, ConvergenceWarning)\n",
            "/usr/local/lib/python3.6/dist-packages/sklearn/neural_network/_multilayer_perceptron.py:571: ConvergenceWarning: Stochastic Optimizer: Maximum iterations (1500) reached and the optimization hasn't converged yet.\n",
            "  % self.max_iter, ConvergenceWarning)\n",
            "/usr/local/lib/python3.6/dist-packages/sklearn/neural_network/_multilayer_perceptron.py:571: ConvergenceWarning: Stochastic Optimizer: Maximum iterations (1500) reached and the optimization hasn't converged yet.\n",
            "  % self.max_iter, ConvergenceWarning)\n"
          ],
          "name": "stderr"
        },
        {
          "output_type": "stream",
          "text": [
            "[0.95, 0.95, 0.95, 0.95, 0.95]\n"
          ],
          "name": "stdout"
        },
        {
          "output_type": "stream",
          "text": [
            "/usr/local/lib/python3.6/dist-packages/sklearn/neural_network/_multilayer_perceptron.py:571: ConvergenceWarning: Stochastic Optimizer: Maximum iterations (1500) reached and the optimization hasn't converged yet.\n",
            "  % self.max_iter, ConvergenceWarning)\n"
          ],
          "name": "stderr"
        }
      ]
    },
    {
      "cell_type": "markdown",
      "metadata": {
        "id": "VRFEk4bL4oiV"
      },
      "source": [
        "## 100 Node"
      ]
    },
    {
      "cell_type": "code",
      "metadata": {
        "colab": {
          "base_uri": "https://localhost:8080/"
        },
        "id": "90S8Vu4u4qQO",
        "outputId": "dd8ea281-35e2-458b-e1fb-4ac93579c85f"
      },
      "source": [
        "from sklearn.neural_network import MLPClassifier\r\n",
        "from sklearn.metrics import accuracy_score\r\n",
        "score_100_node= []\r\n",
        "# import time\r\n",
        "# start_time = time.time()\r\n",
        "\r\n",
        "for i in range(5):\r\n",
        "    clf = MLPClassifier( activation='logistic', \r\n",
        "                            learning_rate_init=0.5, \r\n",
        "                            tol= -1, \r\n",
        "                            max_iter=1500, \r\n",
        "                            solver='sgd',\r\n",
        "                            momentum=0,\r\n",
        "                            learning_rate='constant',\r\n",
        "                        hidden_layer_sizes=(100,))\r\n",
        "    clf.fit(X_train, y_train)\r\n",
        "    \r\n",
        "    y_pred = clf.predict(X_test)\r\n",
        "    score_100_node.append(accuracy_score(y_test, y_pred))\r\n",
        "# print(\"--- %s seconds ---\" % (time.time() - start_time))\r\n",
        "\r\n",
        "print(score_100_node)"
      ],
      "execution_count": null,
      "outputs": [
        {
          "output_type": "stream",
          "text": [
            "/usr/local/lib/python3.6/dist-packages/sklearn/neural_network/_multilayer_perceptron.py:571: ConvergenceWarning: Stochastic Optimizer: Maximum iterations (1500) reached and the optimization hasn't converged yet.\n",
            "  % self.max_iter, ConvergenceWarning)\n",
            "/usr/local/lib/python3.6/dist-packages/sklearn/neural_network/_multilayer_perceptron.py:571: ConvergenceWarning: Stochastic Optimizer: Maximum iterations (1500) reached and the optimization hasn't converged yet.\n",
            "  % self.max_iter, ConvergenceWarning)\n",
            "/usr/local/lib/python3.6/dist-packages/sklearn/neural_network/_multilayer_perceptron.py:571: ConvergenceWarning: Stochastic Optimizer: Maximum iterations (1500) reached and the optimization hasn't converged yet.\n",
            "  % self.max_iter, ConvergenceWarning)\n",
            "/usr/local/lib/python3.6/dist-packages/sklearn/neural_network/_multilayer_perceptron.py:571: ConvergenceWarning: Stochastic Optimizer: Maximum iterations (1500) reached and the optimization hasn't converged yet.\n",
            "  % self.max_iter, ConvergenceWarning)\n"
          ],
          "name": "stderr"
        },
        {
          "output_type": "stream",
          "text": [
            "[0.95, 0.95, 0.95, 0.95, 0.95]\n"
          ],
          "name": "stdout"
        },
        {
          "output_type": "stream",
          "text": [
            "/usr/local/lib/python3.6/dist-packages/sklearn/neural_network/_multilayer_perceptron.py:571: ConvergenceWarning: Stochastic Optimizer: Maximum iterations (1500) reached and the optimization hasn't converged yet.\n",
            "  % self.max_iter, ConvergenceWarning)\n"
          ],
          "name": "stderr"
        }
      ]
    },
    {
      "cell_type": "markdown",
      "metadata": {
        "id": "O_LBqn0I4vmS"
      },
      "source": [
        "##200 Node"
      ]
    },
    {
      "cell_type": "code",
      "metadata": {
        "colab": {
          "base_uri": "https://localhost:8080/"
        },
        "id": "93KvU8yeA0pI",
        "outputId": "ed062012-0a7b-47f8-ecc8-50a7888276cf"
      },
      "source": [
        "from sklearn.neural_network import MLPClassifier\r\n",
        "from sklearn.metrics import accuracy_score\r\n",
        "score_200_node= []\r\n",
        "\r\n",
        "# start_time = time.time()\r\n",
        "for i in range(5):\r\n",
        "    clf = MLPClassifier( activation='logistic', \r\n",
        "                            learning_rate_init=0.5, \r\n",
        "                            tol= -1, \r\n",
        "                            max_iter=1500, \r\n",
        "                            solver='sgd',\r\n",
        "                            momentum=0,\r\n",
        "                            learning_rate='constant',\r\n",
        "                        hidden_layer_sizes=(200,))\r\n",
        "    clf.fit(X_train, y_train)\r\n",
        "    \r\n",
        "    y_pred = clf.predict(X_test)\r\n",
        "    score_200_node.append(accuracy_score(y_test, y_pred))\r\n",
        "\r\n",
        "# print(\"--- %s seconds ---\" % (time.time() - start_time))\r\n",
        "\r\n",
        "print(score_200_node)"
      ],
      "execution_count": null,
      "outputs": [
        {
          "output_type": "stream",
          "text": [
            "/usr/local/lib/python3.6/dist-packages/sklearn/neural_network/_multilayer_perceptron.py:571: ConvergenceWarning: Stochastic Optimizer: Maximum iterations (1500) reached and the optimization hasn't converged yet.\n",
            "  % self.max_iter, ConvergenceWarning)\n",
            "/usr/local/lib/python3.6/dist-packages/sklearn/neural_network/_multilayer_perceptron.py:571: ConvergenceWarning: Stochastic Optimizer: Maximum iterations (1500) reached and the optimization hasn't converged yet.\n",
            "  % self.max_iter, ConvergenceWarning)\n",
            "/usr/local/lib/python3.6/dist-packages/sklearn/neural_network/_multilayer_perceptron.py:573: UserWarning: Training interrupted by user.\n",
            "  warnings.warn(\"Training interrupted by user.\")\n",
            "/usr/local/lib/python3.6/dist-packages/sklearn/neural_network/_multilayer_perceptron.py:573: UserWarning: Training interrupted by user.\n",
            "  warnings.warn(\"Training interrupted by user.\")\n"
          ],
          "name": "stderr"
        },
        {
          "output_type": "stream",
          "text": [
            "[0.95, 0.95, 0.53, 0.47, 0.53]\n"
          ],
          "name": "stdout"
        },
        {
          "output_type": "stream",
          "text": [
            "/usr/local/lib/python3.6/dist-packages/sklearn/neural_network/_multilayer_perceptron.py:573: UserWarning: Training interrupted by user.\n",
            "  warnings.warn(\"Training interrupted by user.\")\n"
          ],
          "name": "stderr"
        }
      ]
    },
    {
      "cell_type": "markdown",
      "metadata": {
        "id": "cP9NO-VZ7Bq4"
      },
      "source": [
        "#Pengujian Learning Rate"
      ]
    },
    {
      "cell_type": "markdown",
      "metadata": {
        "id": "YivoIhTD9oTW"
      },
      "source": [
        "##0.1"
      ]
    },
    {
      "cell_type": "code",
      "metadata": {
        "colab": {
          "base_uri": "https://localhost:8080/"
        },
        "id": "79MRqx5Z9pn3",
        "outputId": "36373ffb-1753-42ad-9aaf-70f23c526df9"
      },
      "source": [
        "\r\n",
        "from sklearn.neural_network import MLPClassifier\r\n",
        "from sklearn.metrics import accuracy_score\r\n",
        "\r\n",
        "\r\n",
        "score_01= []\r\n",
        "for i in range(5):\r\n",
        "    clf = MLPClassifier(activation='logistic', \r\n",
        "                        learning_rate_init=0.1, \r\n",
        "                        tol= -1, \r\n",
        "                        max_iter=1500, \r\n",
        "                        solver='sgd',\r\n",
        "                        momentum=0,\r\n",
        "                        learning_rate='constant',\r\n",
        "                        hidden_layer_sizes=(10,))\r\n",
        "    clf.fit(X_train, y_train)\r\n",
        "    \r\n",
        "    y_pred = clf.predict(X_test)\r\n",
        "    score_01.append(accuracy_score(y_test, y_pred))\r\n",
        "\r\n",
        "print(score_01)"
      ],
      "execution_count": null,
      "outputs": [
        {
          "output_type": "stream",
          "text": [
            "/usr/local/lib/python3.6/dist-packages/sklearn/neural_network/_multilayer_perceptron.py:571: ConvergenceWarning: Stochastic Optimizer: Maximum iterations (1500) reached and the optimization hasn't converged yet.\n",
            "  % self.max_iter, ConvergenceWarning)\n",
            "/usr/local/lib/python3.6/dist-packages/sklearn/neural_network/_multilayer_perceptron.py:571: ConvergenceWarning: Stochastic Optimizer: Maximum iterations (1500) reached and the optimization hasn't converged yet.\n",
            "  % self.max_iter, ConvergenceWarning)\n",
            "/usr/local/lib/python3.6/dist-packages/sklearn/neural_network/_multilayer_perceptron.py:571: ConvergenceWarning: Stochastic Optimizer: Maximum iterations (1500) reached and the optimization hasn't converged yet.\n",
            "  % self.max_iter, ConvergenceWarning)\n",
            "/usr/local/lib/python3.6/dist-packages/sklearn/neural_network/_multilayer_perceptron.py:571: ConvergenceWarning: Stochastic Optimizer: Maximum iterations (1500) reached and the optimization hasn't converged yet.\n",
            "  % self.max_iter, ConvergenceWarning)\n"
          ],
          "name": "stderr"
        },
        {
          "output_type": "stream",
          "text": [
            "[0.94, 0.93, 0.94, 0.94, 0.94]\n"
          ],
          "name": "stdout"
        },
        {
          "output_type": "stream",
          "text": [
            "/usr/local/lib/python3.6/dist-packages/sklearn/neural_network/_multilayer_perceptron.py:571: ConvergenceWarning: Stochastic Optimizer: Maximum iterations (1500) reached and the optimization hasn't converged yet.\n",
            "  % self.max_iter, ConvergenceWarning)\n"
          ],
          "name": "stderr"
        }
      ]
    },
    {
      "cell_type": "markdown",
      "metadata": {
        "id": "SyV6ZI3t7D0J"
      },
      "source": [
        "## 0.2"
      ]
    },
    {
      "cell_type": "code",
      "metadata": {
        "colab": {
          "base_uri": "https://localhost:8080/"
        },
        "id": "TfE-2INFWMNt",
        "outputId": "2219739d-1644-4cdd-ff7a-4492689033a1"
      },
      "source": [
        "from sklearn.neural_network import MLPClassifier\r\n",
        "from sklearn.metrics import accuracy_score\r\n",
        "\r\n",
        "\r\n",
        "\r\n",
        "score_02= []\r\n",
        "for i in range(5):\r\n",
        "    clf = MLPClassifier(activation='logistic', \r\n",
        "                        learning_rate_init=0.2, \r\n",
        "                        tol= -1, \r\n",
        "                        max_iter=1500, \r\n",
        "                        solver='sgd',\r\n",
        "                        momentum=0,\r\n",
        "                        learning_rate='constant',\r\n",
        "                        hidden_layer_sizes=(10,))\r\n",
        "    clf.fit(X_train, y_train)\r\n",
        "    \r\n",
        "    y_pred = clf.predict(X_test)\r\n",
        "    score_02.append(accuracy_score(y_test, y_pred))\r\n",
        "\r\n",
        "print(score_02)"
      ],
      "execution_count": null,
      "outputs": [
        {
          "output_type": "stream",
          "text": [
            "/usr/local/lib/python3.6/dist-packages/sklearn/neural_network/_multilayer_perceptron.py:571: ConvergenceWarning: Stochastic Optimizer: Maximum iterations (1500) reached and the optimization hasn't converged yet.\n",
            "  % self.max_iter, ConvergenceWarning)\n",
            "/usr/local/lib/python3.6/dist-packages/sklearn/neural_network/_multilayer_perceptron.py:571: ConvergenceWarning: Stochastic Optimizer: Maximum iterations (1500) reached and the optimization hasn't converged yet.\n",
            "  % self.max_iter, ConvergenceWarning)\n",
            "/usr/local/lib/python3.6/dist-packages/sklearn/neural_network/_multilayer_perceptron.py:571: ConvergenceWarning: Stochastic Optimizer: Maximum iterations (1500) reached and the optimization hasn't converged yet.\n",
            "  % self.max_iter, ConvergenceWarning)\n",
            "/usr/local/lib/python3.6/dist-packages/sklearn/neural_network/_multilayer_perceptron.py:571: ConvergenceWarning: Stochastic Optimizer: Maximum iterations (1500) reached and the optimization hasn't converged yet.\n",
            "  % self.max_iter, ConvergenceWarning)\n"
          ],
          "name": "stderr"
        },
        {
          "output_type": "stream",
          "text": [
            "[0.95, 0.95, 0.96, 0.95, 0.95]\n"
          ],
          "name": "stdout"
        },
        {
          "output_type": "stream",
          "text": [
            "/usr/local/lib/python3.6/dist-packages/sklearn/neural_network/_multilayer_perceptron.py:571: ConvergenceWarning: Stochastic Optimizer: Maximum iterations (1500) reached and the optimization hasn't converged yet.\n",
            "  % self.max_iter, ConvergenceWarning)\n"
          ],
          "name": "stderr"
        }
      ]
    },
    {
      "cell_type": "markdown",
      "metadata": {
        "id": "d79M2AgzDKPd"
      },
      "source": [
        "##0.3"
      ]
    },
    {
      "cell_type": "code",
      "metadata": {
        "colab": {
          "base_uri": "https://localhost:8080/"
        },
        "id": "lc7ehlvBDMKR",
        "outputId": "e7de4008-5ed6-426b-d9ea-1f0167633b4e"
      },
      "source": [
        "from sklearn.neural_network import MLPClassifier\r\n",
        "from sklearn.metrics import accuracy_score\r\n",
        "\r\n",
        "\r\n",
        "score_03= []\r\n",
        "for i in range(5):\r\n",
        "    clf = MLPClassifier(activation='logistic', \r\n",
        "                        learning_rate_init=0.3, \r\n",
        "                        tol= -1, \r\n",
        "                        max_iter=1500, \r\n",
        "                        solver='sgd',\r\n",
        "                        momentum=0,\r\n",
        "                        learning_rate='constant',\r\n",
        "                        hidden_layer_sizes=(10,))\r\n",
        "    clf.fit(X_train, y_train)\r\n",
        "    \r\n",
        "    y_pred = clf.predict(X_test)\r\n",
        "    score_03.append(accuracy_score(y_test, y_pred))\r\n",
        "\r\n",
        "print(score_03)"
      ],
      "execution_count": null,
      "outputs": [
        {
          "output_type": "stream",
          "text": [
            "/usr/local/lib/python3.6/dist-packages/sklearn/neural_network/_multilayer_perceptron.py:571: ConvergenceWarning: Stochastic Optimizer: Maximum iterations (1500) reached and the optimization hasn't converged yet.\n",
            "  % self.max_iter, ConvergenceWarning)\n",
            "/usr/local/lib/python3.6/dist-packages/sklearn/neural_network/_multilayer_perceptron.py:571: ConvergenceWarning: Stochastic Optimizer: Maximum iterations (1500) reached and the optimization hasn't converged yet.\n",
            "  % self.max_iter, ConvergenceWarning)\n",
            "/usr/local/lib/python3.6/dist-packages/sklearn/neural_network/_multilayer_perceptron.py:571: ConvergenceWarning: Stochastic Optimizer: Maximum iterations (1500) reached and the optimization hasn't converged yet.\n",
            "  % self.max_iter, ConvergenceWarning)\n",
            "/usr/local/lib/python3.6/dist-packages/sklearn/neural_network/_multilayer_perceptron.py:571: ConvergenceWarning: Stochastic Optimizer: Maximum iterations (1500) reached and the optimization hasn't converged yet.\n",
            "  % self.max_iter, ConvergenceWarning)\n"
          ],
          "name": "stderr"
        },
        {
          "output_type": "stream",
          "text": [
            "[0.95, 0.95, 0.95, 0.95, 0.95]\n"
          ],
          "name": "stdout"
        },
        {
          "output_type": "stream",
          "text": [
            "/usr/local/lib/python3.6/dist-packages/sklearn/neural_network/_multilayer_perceptron.py:571: ConvergenceWarning: Stochastic Optimizer: Maximum iterations (1500) reached and the optimization hasn't converged yet.\n",
            "  % self.max_iter, ConvergenceWarning)\n"
          ],
          "name": "stderr"
        }
      ]
    },
    {
      "cell_type": "markdown",
      "metadata": {
        "id": "eVqBnyv_C-zr"
      },
      "source": [
        "##0.4"
      ]
    },
    {
      "cell_type": "code",
      "metadata": {
        "colab": {
          "base_uri": "https://localhost:8080/"
        },
        "id": "ZvmGRg_UC-U0",
        "outputId": "2b7cffd4-a616-41f4-bc66-375cef81d69d"
      },
      "source": [
        "from sklearn.neural_network import MLPClassifier\r\n",
        "from sklearn.metrics import accuracy_score\r\n",
        "\r\n",
        "\r\n",
        "score_04= []\r\n",
        "for i in range(5):\r\n",
        "    clf = MLPClassifier(activation='logistic', \r\n",
        "                        learning_rate_init=0.4, \r\n",
        "                       tol= -1, \r\n",
        "                        max_iter=1500, \r\n",
        "                        solver='sgd',\r\n",
        "                        momentum=0,\r\n",
        "                        learning_rate='constant',\r\n",
        "                        hidden_layer_sizes=(10,))\r\n",
        "    clf.fit(X_train, y_train)\r\n",
        "    \r\n",
        "    y_pred = clf.predict(X_test)\r\n",
        "    score_04.append(accuracy_score(y_test, y_pred))\r\n",
        "\r\n",
        "print(score_04)"
      ],
      "execution_count": null,
      "outputs": [
        {
          "output_type": "stream",
          "text": [
            "/usr/local/lib/python3.6/dist-packages/sklearn/neural_network/_multilayer_perceptron.py:571: ConvergenceWarning: Stochastic Optimizer: Maximum iterations (1500) reached and the optimization hasn't converged yet.\n",
            "  % self.max_iter, ConvergenceWarning)\n",
            "/usr/local/lib/python3.6/dist-packages/sklearn/neural_network/_multilayer_perceptron.py:571: ConvergenceWarning: Stochastic Optimizer: Maximum iterations (1500) reached and the optimization hasn't converged yet.\n",
            "  % self.max_iter, ConvergenceWarning)\n",
            "/usr/local/lib/python3.6/dist-packages/sklearn/neural_network/_multilayer_perceptron.py:571: ConvergenceWarning: Stochastic Optimizer: Maximum iterations (1500) reached and the optimization hasn't converged yet.\n",
            "  % self.max_iter, ConvergenceWarning)\n",
            "/usr/local/lib/python3.6/dist-packages/sklearn/neural_network/_multilayer_perceptron.py:571: ConvergenceWarning: Stochastic Optimizer: Maximum iterations (1500) reached and the optimization hasn't converged yet.\n",
            "  % self.max_iter, ConvergenceWarning)\n"
          ],
          "name": "stderr"
        },
        {
          "output_type": "stream",
          "text": [
            "[0.95, 0.95, 0.95, 0.95, 0.95]\n"
          ],
          "name": "stdout"
        },
        {
          "output_type": "stream",
          "text": [
            "/usr/local/lib/python3.6/dist-packages/sklearn/neural_network/_multilayer_perceptron.py:571: ConvergenceWarning: Stochastic Optimizer: Maximum iterations (1500) reached and the optimization hasn't converged yet.\n",
            "  % self.max_iter, ConvergenceWarning)\n"
          ],
          "name": "stderr"
        }
      ]
    },
    {
      "cell_type": "markdown",
      "metadata": {
        "id": "Vp3oY5li71Si"
      },
      "source": [
        "##0.5"
      ]
    },
    {
      "cell_type": "code",
      "metadata": {
        "id": "JuscL4gW727E",
        "colab": {
          "base_uri": "https://localhost:8080/"
        },
        "outputId": "fbaa39a7-ad95-444c-e9e3-431d9c0d960e"
      },
      "source": [
        "from sklearn.neural_network import MLPClassifier\r\n",
        "from sklearn.metrics import accuracy_score\r\n",
        "score_05= []\r\n",
        "\r\n",
        "\r\n",
        "for i in range(5):\r\n",
        "    clf = MLPClassifier(activation='logistic', \r\n",
        "                            learning_rate_init=0.5, \r\n",
        "                          tol= -1, \r\n",
        "                        max_iter=1500, \r\n",
        "                        solver='sgd',\r\n",
        "                        momentum=0,\r\n",
        "                        learning_rate='constant',\r\n",
        "                        hidden_layer_sizes=(10,))\r\n",
        "    clf.fit(X_train, y_train)\r\n",
        "    \r\n",
        "    y_pred = clf.predict(X_test)\r\n",
        "    score_05.append(accuracy_score(y_test, y_pred))\r\n",
        "\r\n",
        "print(score_05)"
      ],
      "execution_count": null,
      "outputs": [
        {
          "output_type": "stream",
          "text": [
            "/usr/local/lib/python3.6/dist-packages/sklearn/neural_network/_multilayer_perceptron.py:571: ConvergenceWarning: Stochastic Optimizer: Maximum iterations (1500) reached and the optimization hasn't converged yet.\n",
            "  % self.max_iter, ConvergenceWarning)\n",
            "/usr/local/lib/python3.6/dist-packages/sklearn/neural_network/_multilayer_perceptron.py:571: ConvergenceWarning: Stochastic Optimizer: Maximum iterations (1500) reached and the optimization hasn't converged yet.\n",
            "  % self.max_iter, ConvergenceWarning)\n",
            "/usr/local/lib/python3.6/dist-packages/sklearn/neural_network/_multilayer_perceptron.py:571: ConvergenceWarning: Stochastic Optimizer: Maximum iterations (1500) reached and the optimization hasn't converged yet.\n",
            "  % self.max_iter, ConvergenceWarning)\n",
            "/usr/local/lib/python3.6/dist-packages/sklearn/neural_network/_multilayer_perceptron.py:571: ConvergenceWarning: Stochastic Optimizer: Maximum iterations (1500) reached and the optimization hasn't converged yet.\n",
            "  % self.max_iter, ConvergenceWarning)\n"
          ],
          "name": "stderr"
        },
        {
          "output_type": "stream",
          "text": [
            "[0.95, 0.95, 0.95, 0.95, 0.95]\n"
          ],
          "name": "stdout"
        },
        {
          "output_type": "stream",
          "text": [
            "/usr/local/lib/python3.6/dist-packages/sklearn/neural_network/_multilayer_perceptron.py:571: ConvergenceWarning: Stochastic Optimizer: Maximum iterations (1500) reached and the optimization hasn't converged yet.\n",
            "  % self.max_iter, ConvergenceWarning)\n"
          ],
          "name": "stderr"
        }
      ]
    },
    {
      "cell_type": "markdown",
      "metadata": {
        "id": "z_FZNgdvDU48"
      },
      "source": [
        "##0.6"
      ]
    },
    {
      "cell_type": "code",
      "metadata": {
        "id": "jSR9ke5UDZsU",
        "colab": {
          "base_uri": "https://localhost:8080/"
        },
        "outputId": "f8776377-85a5-4b15-dca4-4c2584892277"
      },
      "source": [
        "from sklearn.neural_network import MLPClassifier\r\n",
        "from sklearn.metrics import accuracy_score\r\n",
        "\r\n",
        "\r\n",
        "score_06= []\r\n",
        "for i in range(5):\r\n",
        "    clf = MLPClassifier(activation='logistic', \r\n",
        "                        learning_rate_init=0.6, \r\n",
        "                      tol= -1, \r\n",
        "                        max_iter=1500, \r\n",
        "                        solver='sgd',\r\n",
        "                        momentum=0,\r\n",
        "                        learning_rate='constant',\r\n",
        "                        hidden_layer_sizes=(10,))\r\n",
        "    clf.fit(X_train, y_train)\r\n",
        "    \r\n",
        "    y_pred = clf.predict(X_test)\r\n",
        "    score_06.append(accuracy_score(y_test, y_pred))\r\n",
        "\r\n",
        "print(score_06)"
      ],
      "execution_count": null,
      "outputs": [
        {
          "output_type": "stream",
          "text": [
            "/usr/local/lib/python3.6/dist-packages/sklearn/neural_network/_multilayer_perceptron.py:571: ConvergenceWarning: Stochastic Optimizer: Maximum iterations (1500) reached and the optimization hasn't converged yet.\n",
            "  % self.max_iter, ConvergenceWarning)\n",
            "/usr/local/lib/python3.6/dist-packages/sklearn/neural_network/_multilayer_perceptron.py:571: ConvergenceWarning: Stochastic Optimizer: Maximum iterations (1500) reached and the optimization hasn't converged yet.\n",
            "  % self.max_iter, ConvergenceWarning)\n",
            "/usr/local/lib/python3.6/dist-packages/sklearn/neural_network/_multilayer_perceptron.py:571: ConvergenceWarning: Stochastic Optimizer: Maximum iterations (1500) reached and the optimization hasn't converged yet.\n",
            "  % self.max_iter, ConvergenceWarning)\n",
            "/usr/local/lib/python3.6/dist-packages/sklearn/neural_network/_multilayer_perceptron.py:571: ConvergenceWarning: Stochastic Optimizer: Maximum iterations (1500) reached and the optimization hasn't converged yet.\n",
            "  % self.max_iter, ConvergenceWarning)\n"
          ],
          "name": "stderr"
        },
        {
          "output_type": "stream",
          "text": [
            "[0.95, 0.95, 0.95, 0.95, 0.95]\n"
          ],
          "name": "stdout"
        },
        {
          "output_type": "stream",
          "text": [
            "/usr/local/lib/python3.6/dist-packages/sklearn/neural_network/_multilayer_perceptron.py:571: ConvergenceWarning: Stochastic Optimizer: Maximum iterations (1500) reached and the optimization hasn't converged yet.\n",
            "  % self.max_iter, ConvergenceWarning)\n"
          ],
          "name": "stderr"
        }
      ]
    },
    {
      "cell_type": "markdown",
      "metadata": {
        "id": "egKk3WLBDkGM"
      },
      "source": [
        "##0.7"
      ]
    },
    {
      "cell_type": "code",
      "metadata": {
        "colab": {
          "base_uri": "https://localhost:8080/"
        },
        "id": "fAP2UrtSDlY8",
        "outputId": "f4080e35-cef3-4e9a-b576-c68a55d3aa36"
      },
      "source": [
        "from sklearn.neural_network import MLPClassifier\r\n",
        "from sklearn.metrics import accuracy_score\r\n",
        "\r\n",
        "\r\n",
        "score_07= []\r\n",
        "for i in range(5):\r\n",
        "    clf = MLPClassifier(activation='logistic', \r\n",
        "                        learning_rate_init=0.7, \r\n",
        "                       tol= -1, \r\n",
        "                        max_iter=1500, \r\n",
        "                        solver='sgd',\r\n",
        "                        momentum=0,\r\n",
        "                        learning_rate='constant',\r\n",
        "                        hidden_layer_sizes=(10,))\r\n",
        "    clf.fit(X_train, y_train)\r\n",
        "    \r\n",
        "    y_pred = clf.predict(X_test)\r\n",
        "    score_07.append(accuracy_score(y_test, y_pred))\r\n",
        "\r\n",
        "print(score_07)"
      ],
      "execution_count": null,
      "outputs": [
        {
          "output_type": "stream",
          "text": [
            "/usr/local/lib/python3.6/dist-packages/sklearn/neural_network/_multilayer_perceptron.py:571: ConvergenceWarning: Stochastic Optimizer: Maximum iterations (1500) reached and the optimization hasn't converged yet.\n",
            "  % self.max_iter, ConvergenceWarning)\n",
            "/usr/local/lib/python3.6/dist-packages/sklearn/neural_network/_multilayer_perceptron.py:571: ConvergenceWarning: Stochastic Optimizer: Maximum iterations (1500) reached and the optimization hasn't converged yet.\n",
            "  % self.max_iter, ConvergenceWarning)\n",
            "/usr/local/lib/python3.6/dist-packages/sklearn/neural_network/_multilayer_perceptron.py:571: ConvergenceWarning: Stochastic Optimizer: Maximum iterations (1500) reached and the optimization hasn't converged yet.\n",
            "  % self.max_iter, ConvergenceWarning)\n",
            "/usr/local/lib/python3.6/dist-packages/sklearn/neural_network/_multilayer_perceptron.py:571: ConvergenceWarning: Stochastic Optimizer: Maximum iterations (1500) reached and the optimization hasn't converged yet.\n",
            "  % self.max_iter, ConvergenceWarning)\n"
          ],
          "name": "stderr"
        },
        {
          "output_type": "stream",
          "text": [
            "[0.95, 0.95, 0.95, 0.95, 0.95]\n"
          ],
          "name": "stdout"
        },
        {
          "output_type": "stream",
          "text": [
            "/usr/local/lib/python3.6/dist-packages/sklearn/neural_network/_multilayer_perceptron.py:571: ConvergenceWarning: Stochastic Optimizer: Maximum iterations (1500) reached and the optimization hasn't converged yet.\n",
            "  % self.max_iter, ConvergenceWarning)\n"
          ],
          "name": "stderr"
        }
      ]
    },
    {
      "cell_type": "markdown",
      "metadata": {
        "id": "QaxqjKsDDx8H"
      },
      "source": [
        "##0.8\r\n"
      ]
    },
    {
      "cell_type": "code",
      "metadata": {
        "colab": {
          "base_uri": "https://localhost:8080/"
        },
        "id": "k_HHMTlqDxdQ",
        "outputId": "9d5ef69b-04b1-46fb-f010-a0682a486d4a"
      },
      "source": [
        "from sklearn.neural_network import MLPClassifier\r\n",
        "from sklearn.metrics import accuracy_score\r\n",
        "\r\n",
        "\r\n",
        "score_08= []\r\n",
        "for i in range(5):\r\n",
        "    clf = MLPClassifier(activation='logistic', \r\n",
        "                        learning_rate_init=0.8, \r\n",
        "                      tol= -1, \r\n",
        "                        max_iter=1500, \r\n",
        "                        solver='sgd',\r\n",
        "                        momentum=0,\r\n",
        "                        learning_rate='constant',\r\n",
        "                        hidden_layer_sizes=(10,))\r\n",
        "    clf.fit(X_train, y_train)\r\n",
        "    \r\n",
        "    y_pred = clf.predict(X_test)\r\n",
        "    score_08.append(accuracy_score(y_test, y_pred))\r\n",
        "\r\n",
        "print(score_08)"
      ],
      "execution_count": null,
      "outputs": [
        {
          "output_type": "stream",
          "text": [
            "/usr/local/lib/python3.6/dist-packages/sklearn/neural_network/_multilayer_perceptron.py:571: ConvergenceWarning: Stochastic Optimizer: Maximum iterations (1500) reached and the optimization hasn't converged yet.\n",
            "  % self.max_iter, ConvergenceWarning)\n",
            "/usr/local/lib/python3.6/dist-packages/sklearn/neural_network/_multilayer_perceptron.py:571: ConvergenceWarning: Stochastic Optimizer: Maximum iterations (1500) reached and the optimization hasn't converged yet.\n",
            "  % self.max_iter, ConvergenceWarning)\n",
            "/usr/local/lib/python3.6/dist-packages/sklearn/neural_network/_multilayer_perceptron.py:571: ConvergenceWarning: Stochastic Optimizer: Maximum iterations (1500) reached and the optimization hasn't converged yet.\n",
            "  % self.max_iter, ConvergenceWarning)\n",
            "/usr/local/lib/python3.6/dist-packages/sklearn/neural_network/_multilayer_perceptron.py:571: ConvergenceWarning: Stochastic Optimizer: Maximum iterations (1500) reached and the optimization hasn't converged yet.\n",
            "  % self.max_iter, ConvergenceWarning)\n"
          ],
          "name": "stderr"
        },
        {
          "output_type": "stream",
          "text": [
            "[0.95, 0.95, 0.95, 0.95, 0.95]\n"
          ],
          "name": "stdout"
        },
        {
          "output_type": "stream",
          "text": [
            "/usr/local/lib/python3.6/dist-packages/sklearn/neural_network/_multilayer_perceptron.py:571: ConvergenceWarning: Stochastic Optimizer: Maximum iterations (1500) reached and the optimization hasn't converged yet.\n",
            "  % self.max_iter, ConvergenceWarning)\n"
          ],
          "name": "stderr"
        }
      ]
    },
    {
      "cell_type": "markdown",
      "metadata": {
        "id": "pRTXKIYC7665"
      },
      "source": [
        "##0.9"
      ]
    },
    {
      "cell_type": "code",
      "metadata": {
        "colab": {
          "base_uri": "https://localhost:8080/"
        },
        "id": "JswFcOy379tF",
        "outputId": "123c3e51-a561-4fdf-a626-96c4fcfd7cff"
      },
      "source": [
        "from sklearn.neural_network import MLPClassifier\r\n",
        "from sklearn.metrics import accuracy_score\r\n",
        "score_09= []\r\n",
        "\r\n",
        "\r\n",
        "for i in range(5):\r\n",
        "    clf = MLPClassifier(activation='logistic', \r\n",
        "                        learning_rate_init=0.9, \r\n",
        "                        tol= -1, \r\n",
        "                        max_iter=1500, \r\n",
        "                        solver='sgd',\r\n",
        "                        momentum=0,\r\n",
        "                        learning_rate='constant',\r\n",
        "                        hidden_layer_sizes=(10,))\r\n",
        "    clf.fit(X_train, y_train)\r\n",
        "    \r\n",
        "    y_pred = clf.predict(X_test)\r\n",
        "    score_09.append(accuracy_score(y_test, y_pred))\r\n",
        "\r\n",
        "print(score_09)"
      ],
      "execution_count": null,
      "outputs": [
        {
          "output_type": "stream",
          "text": [
            "/usr/local/lib/python3.6/dist-packages/sklearn/neural_network/_multilayer_perceptron.py:571: ConvergenceWarning: Stochastic Optimizer: Maximum iterations (1500) reached and the optimization hasn't converged yet.\n",
            "  % self.max_iter, ConvergenceWarning)\n",
            "/usr/local/lib/python3.6/dist-packages/sklearn/neural_network/_multilayer_perceptron.py:571: ConvergenceWarning: Stochastic Optimizer: Maximum iterations (1500) reached and the optimization hasn't converged yet.\n",
            "  % self.max_iter, ConvergenceWarning)\n",
            "/usr/local/lib/python3.6/dist-packages/sklearn/neural_network/_multilayer_perceptron.py:571: ConvergenceWarning: Stochastic Optimizer: Maximum iterations (1500) reached and the optimization hasn't converged yet.\n",
            "  % self.max_iter, ConvergenceWarning)\n",
            "/usr/local/lib/python3.6/dist-packages/sklearn/neural_network/_multilayer_perceptron.py:571: ConvergenceWarning: Stochastic Optimizer: Maximum iterations (1500) reached and the optimization hasn't converged yet.\n",
            "  % self.max_iter, ConvergenceWarning)\n"
          ],
          "name": "stderr"
        },
        {
          "output_type": "stream",
          "text": [
            "[0.95, 0.95, 0.95, 0.95, 0.95]\n"
          ],
          "name": "stdout"
        },
        {
          "output_type": "stream",
          "text": [
            "/usr/local/lib/python3.6/dist-packages/sklearn/neural_network/_multilayer_perceptron.py:571: ConvergenceWarning: Stochastic Optimizer: Maximum iterations (1500) reached and the optimization hasn't converged yet.\n",
            "  % self.max_iter, ConvergenceWarning)\n"
          ],
          "name": "stderr"
        }
      ]
    },
    {
      "cell_type": "markdown",
      "metadata": {
        "id": "YO9nzHM7xVXt"
      },
      "source": [
        "#Evaluasi Performa"
      ]
    },
    {
      "cell_type": "code",
      "metadata": {
        "colab": {
          "base_uri": "https://localhost:8080/"
        },
        "id": "5Uzy5iuKxXOC",
        "outputId": "84e6fbc4-1d74-417c-e377-62f3980ffd26"
      },
      "source": [
        "from sklearn.neural_network import MLPClassifier\r\n",
        "from sklearn.metrics import accuracy_score, confusion_matrix, f1_score, precision_score, recall_score\r\n",
        "score_hidden_layer_075= []\r\n",
        "f1_score_075 = []\r\n",
        "precision_score_075 = []\r\n",
        "recall_score_075 = []\r\n",
        "cf = []\r\n",
        "for i in range(5):\r\n",
        "    clf = MLPClassifier(activation='logistic', \r\n",
        "                        learning_rate_init=0.2, \r\n",
        "                        tol= -1, \r\n",
        "                        max_iter=1500, \r\n",
        "                        solver='sgd',\r\n",
        "                        momentum=0,\r\n",
        "                        learning_rate='constant',\r\n",
        "                        hidden_layer_sizes=(10,))\r\n",
        "    clf.fit(X_train, y_train)\r\n",
        "    \r\n",
        "    y_pred = clf.predict(X_test)\r\n",
        "    score_hidden_layer_075.append(accuracy_score(y_test, y_pred))\r\n",
        "    f1_score_075.append(f1_score(y_test, y_pred))\r\n",
        "    precision_score_075.append(precision_score(y_test, y_pred))\r\n",
        "    recall_score_075.append(recall_score(y_test, y_pred))\r\n",
        "    cf.append(confusion_matrix(y_test, y_pred))\r\n",
        "\r\n",
        "print(score_hidden_layer_075)\r\n",
        "print(f1_score_075)\r\n",
        "print(precision_score_075)\r\n",
        "print(recall_score_075)\r\n",
        "print(cf)"
      ],
      "execution_count": null,
      "outputs": [
        {
          "output_type": "stream",
          "text": [
            "/usr/local/lib/python3.6/dist-packages/sklearn/neural_network/_multilayer_perceptron.py:571: ConvergenceWarning: Stochastic Optimizer: Maximum iterations (1500) reached and the optimization hasn't converged yet.\n",
            "  % self.max_iter, ConvergenceWarning)\n",
            "/usr/local/lib/python3.6/dist-packages/sklearn/neural_network/_multilayer_perceptron.py:571: ConvergenceWarning: Stochastic Optimizer: Maximum iterations (1500) reached and the optimization hasn't converged yet.\n",
            "  % self.max_iter, ConvergenceWarning)\n",
            "/usr/local/lib/python3.6/dist-packages/sklearn/neural_network/_multilayer_perceptron.py:571: ConvergenceWarning: Stochastic Optimizer: Maximum iterations (1500) reached and the optimization hasn't converged yet.\n",
            "  % self.max_iter, ConvergenceWarning)\n",
            "/usr/local/lib/python3.6/dist-packages/sklearn/neural_network/_multilayer_perceptron.py:571: ConvergenceWarning: Stochastic Optimizer: Maximum iterations (1500) reached and the optimization hasn't converged yet.\n",
            "  % self.max_iter, ConvergenceWarning)\n"
          ],
          "name": "stderr"
        },
        {
          "output_type": "stream",
          "text": [
            "[0.95, 0.95, 0.95, 0.95, 0.95]\n",
            "[0.9514563106796116, 0.9514563106796116, 0.9514563106796116, 0.9514563106796116, 0.9514563106796116]\n",
            "[0.98, 0.98, 0.98, 0.98, 0.98]\n",
            "[0.9245283018867925, 0.9245283018867925, 0.9245283018867925, 0.9245283018867925, 0.9245283018867925]\n",
            "[array([[46,  1],\n",
            "       [ 4, 49]]), array([[46,  1],\n",
            "       [ 4, 49]]), array([[46,  1],\n",
            "       [ 4, 49]]), array([[46,  1],\n",
            "       [ 4, 49]]), array([[46,  1],\n",
            "       [ 4, 49]])]\n"
          ],
          "name": "stdout"
        },
        {
          "output_type": "stream",
          "text": [
            "/usr/local/lib/python3.6/dist-packages/sklearn/neural_network/_multilayer_perceptron.py:571: ConvergenceWarning: Stochastic Optimizer: Maximum iterations (1500) reached and the optimization hasn't converged yet.\n",
            "  % self.max_iter, ConvergenceWarning)\n"
          ],
          "name": "stderr"
        }
      ]
    },
    {
      "cell_type": "markdown",
      "metadata": {
        "id": "ByBMVrK6U8iu"
      },
      "source": [
        "Save the model"
      ]
    },
    {
      "cell_type": "code",
      "metadata": {
        "id": "47W86blOUs_f"
      },
      "source": [
        "import pickle\r\n",
        "\r\n",
        "filename = 'finalized_classifier.pkl'\r\n",
        "pickle.dump(clf, open(filename, 'wb'))"
      ],
      "execution_count": null,
      "outputs": []
    },
    {
      "cell_type": "markdown",
      "metadata": {
        "id": "5JdVwLmRU-h7"
      },
      "source": [
        "Load the model\r\n"
      ]
    },
    {
      "cell_type": "code",
      "metadata": {
        "id": "Yzw36pTLYpnQ"
      },
      "source": [
        "loaded_model = pickle.load(open('finalized_classifier.pkl', 'rb'))\r\n",
        "result = loaded_model.score(X_test, y_test)\r\n",
        "print(result)"
      ],
      "execution_count": null,
      "outputs": []
    },
    {
      "cell_type": "markdown",
      "metadata": {
        "id": "Wg6gB2b4p3jp"
      },
      "source": [
        "#World Cloud"
      ]
    },
    {
      "cell_type": "code",
      "metadata": {
        "id": "ilJ3APuE-xWw"
      },
      "source": [
        "del preprocessed_dataset_negative\r\n",
        "del preprocessed_dataset_positive"
      ],
      "execution_count": null,
      "outputs": []
    },
    {
      "cell_type": "code",
      "metadata": {
        "id": "zHH1JOosp46j"
      },
      "source": [
        "new_stopwords = ['cipta', 'kerja', 'ciptakerja', 'omnibus', 'law', 'uu', 'ruu', 'lapang', 'cilaka', 'omnibuslaw', 'aja', 'tidak', 'indonesia', 'undang', 'rakyat', ]\r\n",
        "for i in new_stopwords:\r\n",
        "    if i not in list_stopwords:\r\n",
        "        list_stopwords.append(i)"
      ],
      "execution_count": null,
      "outputs": []
    },
    {
      "cell_type": "code",
      "metadata": {
        "id": "BpRwcZyf2VPH"
      },
      "source": [
        "data_wordcloud = {'Tweet':join_tweet, 'Sentiment':tweets['Sentiment']} \r\n",
        "wordcloud_document = pd.DataFrame(data_wordcloud) "
      ],
      "execution_count": null,
      "outputs": []
    },
    {
      "cell_type": "code",
      "metadata": {
        "id": "ccTBe5uY5AYv"
      },
      "source": [
        "preprocessed_dataset_negative = [tweet.split() for tweet in wordcloud_document[wordcloud_document['Sentiment']==0].Tweet]\r\n",
        "preprocessed_dataset_positive = [tweet.split() for tweet in wordcloud_document[wordcloud_document['Sentiment']==1].Tweet]"
      ],
      "execution_count": null,
      "outputs": []
    },
    {
      "cell_type": "code",
      "metadata": {
        "id": "UQE-HCK48j8o"
      },
      "source": [
        "def remove_stopwords(tweet):\r\n",
        "    return [term for term in tweet if term not in list_stopwords]\r\n",
        "\r\n",
        "\r\n",
        "preprocessed_dataset_negative = [remove_stopwords(tweet) for tweet in preprocessed_dataset_negative]\r\n",
        "preprocessed_dataset_positive = [remove_stopwords(tweet) for tweet in preprocessed_dataset_positive]"
      ],
      "execution_count": null,
      "outputs": []
    },
    {
      "cell_type": "code",
      "metadata": {
        "id": "XdgU_u8x9lTI"
      },
      "source": [
        "preprocessed_dataset_negative = [\" \".join(tweet) for tweet in preprocessed_dataset_negative]\r\n",
        "preprocessed_dataset_positive = [\" \".join(tweet) for tweet in preprocessed_dataset_positive]"
      ],
      "execution_count": null,
      "outputs": []
    },
    {
      "cell_type": "code",
      "metadata": {
        "id": "SGgfwuL_9Sbi"
      },
      "source": [
        "preprocessed_dataset_negative"
      ],
      "execution_count": null,
      "outputs": []
    },
    {
      "cell_type": "code",
      "metadata": {
        "id": "9OuMbtbkrh6y"
      },
      "source": [
        "from wordcloud import WordCloud, ImageColorGenerator\r\n",
        "import matplotlib.pyplot as plt\r\n"
      ],
      "execution_count": null,
      "outputs": []
    },
    {
      "cell_type": "code",
      "metadata": {
        "colab": {
          "base_uri": "https://localhost:8080/",
          "height": 248
        },
        "id": "9IsXKg_3ySD5",
        "outputId": "bf0a59cb-93be-4a23-dc4e-3bcb1bdeadc8"
      },
      "source": [
        "from PIL import Image\r\n",
        "import numpy as np\r\n",
        "\r\n",
        "mask = np.array(Image.open('/content/square.png'))\r\n",
        "positive_wordcloud = \" \".join(tweet for tweet in preprocessed_dataset_positive)\r\n",
        "\r\n",
        "# Create and generate a word cloud image:\r\n",
        "wordcloud = WordCloud(max_font_size=256, max_words=100, \r\n",
        "                      mask=mask, background_color=\"white\",\r\n",
        "                      random_state=42, width=mask.shape[1],\r\n",
        "                      height=mask.shape[0]).generate(positive_wordcloud)\r\n",
        "\r\n",
        "# Display the generated image:\r\n",
        "wordcloud.to_file(\"/content/sentimen_positif.png\")\r\n",
        "\r\n",
        "plt.imshow(wordcloud, interpolation='bilinear')\r\n",
        "plt.axis(\"off\")\r\n",
        "plt.show()\r\n"
      ],
      "execution_count": null,
      "outputs": [
        {
          "output_type": "display_data",
          "data": {
            "image/png": "[encoded data removed]",
            "text/plain": [
              "<Figure size 432x288 with 1 Axes>"
            ]
          },
          "metadata": {
            "tags": [],
            "needs_background": "light"
          }
        }
      ]
    },
    {
      "cell_type": "code",
      "metadata": {
        "id": "333armM7hOzf"
      },
      "source": [
        "circle_mask = np.array(Image.open('/content/circle.png'))\r\n",
        "\r\n",
        "def transform_format(val):\r\n",
        "    if val == 0:\r\n",
        "        return 255\r\n",
        "    else:\r\n",
        "        return val\r\n",
        "\r\n",
        "transformed_circle_mask = np.ndarray((circle_mask.shape[0],circle_mask.shape[1]), np.int32)\r\n",
        "\r\n",
        "for i in range(len(circle_mask)):\r\n",
        "    transformed_circle_mask[i] = list(map(transform_format, circle_mask[i]))"
      ],
      "execution_count": null,
      "outputs": []
    },
    {
      "cell_type": "code",
      "metadata": {
        "colab": {
          "base_uri": "https://localhost:8080/",
          "height": 285
        },
        "id": "VKgGnQlqzHZL",
        "outputId": "080a56f3-711d-43d2-bed2-6bb31e86584c"
      },
      "source": [
        "from PIL import Image\r\n",
        "import numpy as np\r\n",
        "\r\n",
        "mask = np.array(Image.open('/content/circle.png'))\r\n",
        "\r\n",
        "negative_wordcloud = \" \".join(tweet for tweet in preprocessed_dataset_negative)\r\n",
        "\r\n",
        "# Create and generate a word cloud image:\r\n",
        "wordcloud = WordCloud(max_font_size=256, max_words=100, \r\n",
        "                      mask=transformed_circle_mask, background_color=\"white\",\r\n",
        "                      random_state=42).generate(negative_wordcloud)\r\n",
        "\r\n",
        "wordcloud.to_file(\"/content/sentimen_negatif.png\")\r\n",
        "\r\n",
        "# Display the generated image:\r\n",
        "\r\n",
        "plt.imshow(wordcloud, interpolation='bilinear')\r\n",
        "plt.axis(\"off\")\r\n",
        "plt.show()\r\n",
        "\r\n",
        "print(wordcloud.words_.keys())"
      ],
      "execution_count": null,
      "outputs": [
        {
          "output_type": "display_data",
          "data": {
            "image/png": "[encoded data removed]",
            "text/plain": [
              "<Figure size 432x288 with 1 Axes>"
            ]
          },
          "metadata": {
            "tags": []
          }
        },
        {
          "output_type": "stream",
          "text": [
            "dict_keys(['rakyat', 'buruh', 'pemerintah', 'negara', 'pekerja', 'investasi', 'disahkan', 'hak', 'menolak', 'pasal', 'pandemi', 'investor', 'lingkungan', 'masyarakat', 'oligarki', 'cacat', 'bukan', 'hukum', 'ekonomi', 'tolak', 'kepentingan', 'lapangan', 'ciptaker', 'pengusaha', 'tahun', 'belum', 'masyarakat adat', 'pembahasan', 'hidup', 'sih', 'proses', 'presiden', 'publik', 'berpotensi', 'tengah', 'merugikan', 'covid', 'udah', 'bikin', 'kesejahteraan', 'jokowi', 'menyengsarakan', 'dpr', 'benar', 'pengesahan', 'minerba', 'pemerintah dpr', 'draft', 'dinilai', 'mengancam', 'substansi', 'kaum buruh', 'draf', 'buruk', 'rezim', 'mari', 'konflik', 'tau', 'hutan', 'perusahaan', 'negeri', 'akibat', 'lingkungan hidup', 'dpr ri', 'susah', 'tenaga', 'petani', 'penolakan', 'agraria', 'diam', 'warga', 'pemerintahan', 'nggak', 'batalkan', 'ayo', 'rancangan', 'corona', 'banget', 'alat', 'berdampak', 'ditolak', 'penjajahan', 'baca', 'izin', 'transparan', 'tanah', 'lahan', 'sektor', 'salah', 'kondisi', 'suara', 'ancaman', 'ruang hidup', 'melindungi', 'usaha', 'membahas', 'aturan', 'dlm', 'pendidikan', 'melibatkan'])\n"
          ],
          "name": "stdout"
        }
      ]
    },
    {
      "cell_type": "markdown",
      "metadata": {
        "id": "H4rdSQ66ifui"
      },
      "source": [
        "# Predict New Data"
      ]
    },
    {
      "cell_type": "code",
      "metadata": {
        "id": "p6qHdqj1ik_L"
      },
      "source": [
        "load_tfidf = pickle.load(open(\"feature.pkl\", 'rb'))\r\n",
        "\r\n",
        "# Create new tfidfVectorizer with old vocabulary\r\n",
        "tf1idf_new = TfidfVectorizer(vocabulary = load_tfidf)"
      ],
      "execution_count": null,
      "outputs": []
    },
    {
      "cell_type": "code",
      "metadata": {
        "id": "JwdAEbzTjixB"
      },
      "source": [
        "def predict_new_text(text):\r\n",
        "    case_folded_new = case_folding(text)\r\n",
        "    tokenized_new  =case_folded_new.split()\r\n",
        "    normalized_new  = normalized(tokenized_new)\r\n",
        "    removed_stopwords_new = remove_stopwords(normalized_new)\r\n",
        "    stemmed_new = [stemmer.stem(word) for word in removed_stopwords_new]\r\n",
        "    \r\n",
        "    cleaned_new_data =[\" \".join(stemmed_new)]\r\n",
        "    X_tf1 = tf1idf_new.fit_transform(cleaned_new_data)\r\n",
        "    predict = loaded_model.predict_proba(X_tf1)\r\n",
        "    if predict[0][0] > predict[0][1]:\r\n",
        "        return \"Sentimen Negatif %.2f%%\" % (predict[0][0]*100)\r\n",
        "    else:\r\n",
        "        return \"Sentimen Positif %.2f%%\" % (predict[0][1]*100)"
      ],
      "execution_count": null,
      "outputs": []
    },
    {
      "cell_type": "code",
      "metadata": {
        "colab": {
          "base_uri": "https://localhost:8080/",
          "height": 52
        },
        "id": "zE4Cme20f6QA",
        "outputId": "ad7b7c91-8e3d-498e-ccec-5221dcc54d2a"
      },
      "source": [
        "new_data = input(\"Input Data Baru: \")\r\n",
        "predict_new_text(new_data)"
      ],
      "execution_count": null,
      "outputs": [
        {
          "output_type": "stream",
          "text": [
            "Input Data Baru: Tolak omnibus law cipta kerja karena menyengsarakan rakyat dan mensejahterakan oligarki\n"
          ],
          "name": "stdout"
        },
        {
          "output_type": "execute_result",
          "data": {
            "application/vnd.google.colaboratory.intrinsic+json": {
              "type": "string"
            },
            "text/plain": [
              "'Sentimen Negatif 99.03%'"
            ]
          },
          "metadata": {
            "tags": []
          },
          "execution_count": 28
        }
      ]
    },
    {
      "cell_type": "code",
      "metadata": {
        "colab": {
          "base_uri": "https://localhost:8080/",
          "height": 52
        },
        "id": "48XZX0E1jExK",
        "outputId": "6703e47f-ee52-4751-e3d0-7405bd24bc41"
      },
      "source": [
        "new_data = input(\"Input Data Baru: \")\r\n",
        "predict_new_text(new_data)"
      ],
      "execution_count": null,
      "outputs": [
        {
          "output_type": "stream",
          "text": [
            "Input Data Baru: Tolak omnibus law karena menyengsarakan rakyat dan mensejahterakan oligarki\n"
          ],
          "name": "stdout"
        },
        {
          "output_type": "execute_result",
          "data": {
            "application/vnd.google.colaboratory.intrinsic+json": {
              "type": "string"
            },
            "text/plain": [
              "'Sentimen Negatif 100.00%'"
            ]
          },
          "metadata": {
            "tags": []
          },
          "execution_count": 123
        }
      ]
    },
    {
      "cell_type": "code",
      "metadata": {
        "colab": {
          "base_uri": "https://localhost:8080/",
          "height": 52
        },
        "id": "Dhfkdu8WlPto",
        "outputId": "677afb14-17d9-4421-a021-a7a04da5d4ac"
      },
      "source": [
        "new_data = input(\"Input Data Baru: \")\r\n",
        "predict_new_text(new_data)"
      ],
      "execution_count": null,
      "outputs": [
        {
          "output_type": "stream",
          "text": [
            "Input Data Baru: Dukung omnibus law karena mensejahterakan rakyat dan memperluas lapangan pekerjaan\n"
          ],
          "name": "stdout"
        },
        {
          "output_type": "execute_result",
          "data": {
            "application/vnd.google.colaboratory.intrinsic+json": {
              "type": "string"
            },
            "text/plain": [
              "'Sentimen Positif 99.99%'"
            ]
          },
          "metadata": {
            "tags": []
          },
          "execution_count": 132
        }
      ]
    },
    {
      "cell_type": "code",
      "metadata": {
        "colab": {
          "base_uri": "https://localhost:8080/",
          "height": 52
        },
        "id": "QvE1vTRrrsjm",
        "outputId": "1f16e44d-8649-4ce1-cbd5-3b6ba7adc4d6"
      },
      "source": [
        "new_data = input(\"Input Data Baru: \")\r\n",
        "predict_new_text(new_data)"
      ],
      "execution_count": null,
      "outputs": [
        {
          "output_type": "stream",
          "text": [
            "Input Data Baru: omnibus law cipta kerja harus didukung, tidak boleh ditolak\n"
          ],
          "name": "stdout"
        },
        {
          "output_type": "execute_result",
          "data": {
            "application/vnd.google.colaboratory.intrinsic+json": {
              "type": "string"
            },
            "text/plain": [
              "'Sentimen Positif 77.32%'"
            ]
          },
          "metadata": {
            "tags": []
          },
          "execution_count": 135
        }
      ]
    }
  ]
}